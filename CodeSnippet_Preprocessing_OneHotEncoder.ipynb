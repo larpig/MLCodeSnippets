{
 "cells": [
  {
   "cell_type": "code",
   "execution_count": 1,
   "metadata": {},
   "outputs": [
    {
     "data": {
      "text/plain": [
       "'\\n%%sh\\npip install numpy --upgrade\\npip install pandas --upgrade\\npip install sklearn --upgrade\\n'"
      ]
     },
     "execution_count": 1,
     "metadata": {},
     "output_type": "execute_result"
    }
   ],
   "source": [
    "'''\n",
    "%%sh\n",
    "pip install numpy --upgrade\n",
    "pip install pandas --upgrade\n",
    "pip install sklearn --upgrade\n",
    "'''"
   ]
  },
  {
   "cell_type": "code",
   "execution_count": 2,
   "metadata": {},
   "outputs": [],
   "source": [
    "import numpy as np\n",
    "import pandas as pd\n",
    "from sklearn.preprocessing import LabelEncoder, OneHotEncoder"
   ]
  },
  {
   "cell_type": "markdown",
   "metadata": {},
   "source": [
    "# Cretaing Data to Be Used as Example"
   ]
  },
  {
   "cell_type": "code",
   "execution_count": 3,
   "metadata": {},
   "outputs": [
    {
     "name": "stdout",
     "output_type": "stream",
     "text": [
      "\n",
      "Train Data: \n",
      "\n",
      "        Gender\n",
      "Luis        M\n",
      "Mari        F\n",
      "Lucas       M\n",
      "Filipe      O\n",
      "\n",
      "Test Data: \n",
      "\n",
      "       Gender\n",
      "Aline      F\n",
      "Lari       O\n",
      "Lele       O\n",
      "\n",
      "Note: The test data has no all labels of the train data.\n"
     ]
    }
   ],
   "source": [
    "data = np.array([['',     'Gender'],\n",
    "                ['Luis',  'M'],\n",
    "                ['Mari',  'F'],\n",
    "                ['Lucas', 'M'], \n",
    "                ['Filipe','O'],\n",
    "                ['Aline', 'F'],\n",
    "                ['Lari',  'O'],\n",
    "                ['Lele',  'O']])\n",
    "                \n",
    "data = pd.DataFrame(data=data[1:,1:],\n",
    "                  index=data[1:,0],\n",
    "                  columns=data[0,1:])\n",
    "\n",
    "data_train = data[(data.index != 'Aline') & (data.index != 'Lari') & (data.index != 'Lele')]\n",
    "data_test = data[(data.index == 'Aline') | (data.index == 'Lari') | (data.index == 'Lele')]\n",
    "feat = data.columns[0]\n",
    "\n",
    "print('\\nTrain Data: \\n\\n', data_train)\n",
    "print('\\nTest Data: \\n\\n', data_test)\n",
    "print('\\nNote: The test data has no all labels of the train data.')"
   ]
  },
  {
   "cell_type": "markdown",
   "metadata": {},
   "source": [
    "# Encoding Labels for the Train Data"
   ]
  },
  {
   "cell_type": "code",
   "execution_count": 4,
   "metadata": {},
   "outputs": [
    {
     "name": "stdout",
     "output_type": "stream",
     "text": [
      "Processing feature Gender for the train data.\n",
      "\n",
      "Value F was encoded.\n",
      "Value M was encoded.\n",
      "Value O was encoded.\n"
     ]
    },
    {
     "data": {
      "text/plain": [
       "[None, None, None]"
      ]
     },
     "execution_count": 4,
     "metadata": {},
     "output_type": "execute_result"
    }
   ],
   "source": [
    "print(\"Processing feature {} for the train data.\\n\".format(feat))\n",
    "\n",
    "le = LabelEncoder()\n",
    "le.fit(data_train[feat])\n",
    "\n",
    "[print(\"Value {} was encoded.\".format(value)) for value in le.classes_]"
   ]
  },
  {
   "cell_type": "markdown",
   "metadata": {},
   "source": [
    "# Aplying the One Hot Encorder for the Train Data"
   ]
  },
  {
   "cell_type": "code",
   "execution_count": 5,
   "metadata": {},
   "outputs": [
    {
     "name": "stderr",
     "output_type": "stream",
     "text": [
      "/home/luisrodrigues/anaconda3/lib/python3.7/site-packages/ipykernel_launcher.py:2: SettingWithCopyWarning: \n",
      "A value is trying to be set on a copy of a slice from a DataFrame.\n",
      "Try using .loc[row_indexer,col_indexer] = value instead\n",
      "\n",
      "See the caveats in the documentation: https://pandas.pydata.org/pandas-docs/stable/user_guide/indexing.html#returning-a-view-versus-a-copy\n",
      "  \n"
     ]
    },
    {
     "data": {
      "text/html": [
       "<div>\n",
       "<style scoped>\n",
       "    .dataframe tbody tr th:only-of-type {\n",
       "        vertical-align: middle;\n",
       "    }\n",
       "\n",
       "    .dataframe tbody tr th {\n",
       "        vertical-align: top;\n",
       "    }\n",
       "\n",
       "    .dataframe thead th {\n",
       "        text-align: right;\n",
       "    }\n",
       "</style>\n",
       "<table border=\"1\" class=\"dataframe\">\n",
       "  <thead>\n",
       "    <tr style=\"text-align: right;\">\n",
       "      <th></th>\n",
       "      <th>Gender</th>\n",
       "      <th>Label</th>\n",
       "      <th>Gender_oh_0_F</th>\n",
       "      <th>Gender_oh_1_M</th>\n",
       "      <th>Gender_oh_2_O</th>\n",
       "    </tr>\n",
       "  </thead>\n",
       "  <tbody>\n",
       "    <tr>\n",
       "      <th>Luis</th>\n",
       "      <td>M</td>\n",
       "      <td>1</td>\n",
       "      <td>0.0</td>\n",
       "      <td>1.0</td>\n",
       "      <td>0.0</td>\n",
       "    </tr>\n",
       "    <tr>\n",
       "      <th>Mari</th>\n",
       "      <td>F</td>\n",
       "      <td>0</td>\n",
       "      <td>1.0</td>\n",
       "      <td>0.0</td>\n",
       "      <td>0.0</td>\n",
       "    </tr>\n",
       "    <tr>\n",
       "      <th>Lucas</th>\n",
       "      <td>M</td>\n",
       "      <td>1</td>\n",
       "      <td>0.0</td>\n",
       "      <td>1.0</td>\n",
       "      <td>0.0</td>\n",
       "    </tr>\n",
       "    <tr>\n",
       "      <th>Filipe</th>\n",
       "      <td>O</td>\n",
       "      <td>2</td>\n",
       "      <td>0.0</td>\n",
       "      <td>0.0</td>\n",
       "      <td>1.0</td>\n",
       "    </tr>\n",
       "  </tbody>\n",
       "</table>\n",
       "</div>"
      ],
      "text/plain": [
       "       Gender  Label  Gender_oh_0_F  Gender_oh_1_M  Gender_oh_2_O\n",
       "Luis        M      1            0.0            1.0            0.0\n",
       "Mari        F      0            1.0            0.0            0.0\n",
       "Lucas       M      1            0.0            1.0            0.0\n",
       "Filipe      O      2            0.0            0.0            1.0"
      ]
     },
     "execution_count": 5,
     "metadata": {},
     "output_type": "execute_result"
    }
   ],
   "source": [
    "_label_enc_data_train = le.transform(data_train[feat])\n",
    "data_train['Label'] = _label_enc_data_train\n",
    "categoryLabels_train = np.sort(np.unique(_label_enc_data_train))\n",
    "\n",
    "oh = OneHotEncoder(sparse=False)\n",
    "oh.fit(_label_enc_data_train.reshape(-1,1))\n",
    "_one_hot_enc_data = oh.transform(_label_enc_data_train.reshape(-1,1))\n",
    "\n",
    "feat_oh = []\n",
    "data_oh = data_train.copy()\n",
    "for i in range(len(oh.categories_[0])):    \n",
    "    col_name = feat+\"_oh_{}_{}\".format(oh.categories_[0][i],le.classes_[i])\n",
    "    data_oh[col_name] = _one_hot_enc_data[:,i]\n",
    "    feat_oh.append(col_name)\n",
    "\n",
    "data_oh"
   ]
  },
  {
   "cell_type": "markdown",
   "metadata": {},
   "source": [
    "# Aplying the One Hot Encoder for the Test Data: ` Wrong way`\n",
    "Do not define the categories (labels) to be encoded (they are extracted from test data)"
   ]
  },
  {
   "cell_type": "code",
   "execution_count": 6,
   "metadata": {},
   "outputs": [
    {
     "name": "stdout",
     "output_type": "stream",
     "text": [
      "Note: There are NOT columns for all labels, only ['Gender_oh_0_F', 'Gender_oh_2_M']\n"
     ]
    },
    {
     "name": "stderr",
     "output_type": "stream",
     "text": [
      "/home/luisrodrigues/anaconda3/lib/python3.7/site-packages/ipykernel_launcher.py:2: SettingWithCopyWarning: \n",
      "A value is trying to be set on a copy of a slice from a DataFrame.\n",
      "Try using .loc[row_indexer,col_indexer] = value instead\n",
      "\n",
      "See the caveats in the documentation: https://pandas.pydata.org/pandas-docs/stable/user_guide/indexing.html#returning-a-view-versus-a-copy\n",
      "  \n"
     ]
    },
    {
     "data": {
      "text/html": [
       "<div>\n",
       "<style scoped>\n",
       "    .dataframe tbody tr th:only-of-type {\n",
       "        vertical-align: middle;\n",
       "    }\n",
       "\n",
       "    .dataframe tbody tr th {\n",
       "        vertical-align: top;\n",
       "    }\n",
       "\n",
       "    .dataframe thead th {\n",
       "        text-align: right;\n",
       "    }\n",
       "</style>\n",
       "<table border=\"1\" class=\"dataframe\">\n",
       "  <thead>\n",
       "    <tr style=\"text-align: right;\">\n",
       "      <th></th>\n",
       "      <th>Gender</th>\n",
       "      <th>Label</th>\n",
       "      <th>Gender_oh_0_F</th>\n",
       "      <th>Gender_oh_2_M</th>\n",
       "    </tr>\n",
       "  </thead>\n",
       "  <tbody>\n",
       "    <tr>\n",
       "      <th>Aline</th>\n",
       "      <td>F</td>\n",
       "      <td>0</td>\n",
       "      <td>1.0</td>\n",
       "      <td>0.0</td>\n",
       "    </tr>\n",
       "    <tr>\n",
       "      <th>Lari</th>\n",
       "      <td>O</td>\n",
       "      <td>2</td>\n",
       "      <td>0.0</td>\n",
       "      <td>1.0</td>\n",
       "    </tr>\n",
       "    <tr>\n",
       "      <th>Lele</th>\n",
       "      <td>O</td>\n",
       "      <td>2</td>\n",
       "      <td>0.0</td>\n",
       "      <td>1.0</td>\n",
       "    </tr>\n",
       "  </tbody>\n",
       "</table>\n",
       "</div>"
      ],
      "text/plain": [
       "      Gender  Label  Gender_oh_0_F  Gender_oh_2_M\n",
       "Aline      F      0            1.0            0.0\n",
       "Lari       O      2            0.0            1.0\n",
       "Lele       O      2            0.0            1.0"
      ]
     },
     "execution_count": 6,
     "metadata": {},
     "output_type": "execute_result"
    }
   ],
   "source": [
    "_label_enc_data_test = le.transform(data_test[feat])\n",
    "data_test['Label'] = _label_enc_data_test\n",
    "\n",
    "oh = OneHotEncoder(sparse=False)\n",
    "oh.fit(_label_enc_data_test.reshape(-1,1))\n",
    "_one_hot_enc_data = oh.transform(_label_enc_data_test.reshape(-1,1))\n",
    "\n",
    "feat_oh = []\n",
    "data_oh = data_test.copy()\n",
    "for i in range(len(oh.categories_[0])):    \n",
    "    col_name = feat+\"_oh_{}_{}\".format(oh.categories_[0][i],le.classes_[i])\n",
    "    data_oh[col_name] = _one_hot_enc_data[:,i]\n",
    "    feat_oh.append(col_name)\n",
    "    \n",
    "print('''Note: There are NOT columns for all labels, only {}'''.format(feat_oh))\n",
    "data_oh"
   ]
  },
  {
   "cell_type": "markdown",
   "metadata": {},
   "source": [
    "# Aplying the One Hot Encoder for the Test Data: `Correct way`\n",
    "Define the categories (labels) to be encoded as those of the train data"
   ]
  },
  {
   "cell_type": "code",
   "execution_count": 7,
   "metadata": {},
   "outputs": [
    {
     "name": "stdout",
     "output_type": "stream",
     "text": [
      "Note: There are columns for all labels, that is ['Gender_oh_0_F', 'Gender_oh_1_M', 'Gender_oh_2_O']\n"
     ]
    },
    {
     "name": "stderr",
     "output_type": "stream",
     "text": [
      "/home/luisrodrigues/anaconda3/lib/python3.7/site-packages/ipykernel_launcher.py:2: SettingWithCopyWarning: \n",
      "A value is trying to be set on a copy of a slice from a DataFrame.\n",
      "Try using .loc[row_indexer,col_indexer] = value instead\n",
      "\n",
      "See the caveats in the documentation: https://pandas.pydata.org/pandas-docs/stable/user_guide/indexing.html#returning-a-view-versus-a-copy\n",
      "  \n"
     ]
    },
    {
     "data": {
      "text/html": [
       "<div>\n",
       "<style scoped>\n",
       "    .dataframe tbody tr th:only-of-type {\n",
       "        vertical-align: middle;\n",
       "    }\n",
       "\n",
       "    .dataframe tbody tr th {\n",
       "        vertical-align: top;\n",
       "    }\n",
       "\n",
       "    .dataframe thead th {\n",
       "        text-align: right;\n",
       "    }\n",
       "</style>\n",
       "<table border=\"1\" class=\"dataframe\">\n",
       "  <thead>\n",
       "    <tr style=\"text-align: right;\">\n",
       "      <th></th>\n",
       "      <th>Gender</th>\n",
       "      <th>Label</th>\n",
       "      <th>Gender_oh_0_F</th>\n",
       "      <th>Gender_oh_1_M</th>\n",
       "      <th>Gender_oh_2_O</th>\n",
       "    </tr>\n",
       "  </thead>\n",
       "  <tbody>\n",
       "    <tr>\n",
       "      <th>Aline</th>\n",
       "      <td>F</td>\n",
       "      <td>0</td>\n",
       "      <td>1.0</td>\n",
       "      <td>0.0</td>\n",
       "      <td>0.0</td>\n",
       "    </tr>\n",
       "    <tr>\n",
       "      <th>Lari</th>\n",
       "      <td>O</td>\n",
       "      <td>2</td>\n",
       "      <td>0.0</td>\n",
       "      <td>0.0</td>\n",
       "      <td>1.0</td>\n",
       "    </tr>\n",
       "    <tr>\n",
       "      <th>Lele</th>\n",
       "      <td>O</td>\n",
       "      <td>2</td>\n",
       "      <td>0.0</td>\n",
       "      <td>0.0</td>\n",
       "      <td>1.0</td>\n",
       "    </tr>\n",
       "  </tbody>\n",
       "</table>\n",
       "</div>"
      ],
      "text/plain": [
       "      Gender  Label  Gender_oh_0_F  Gender_oh_1_M  Gender_oh_2_O\n",
       "Aline      F      0            1.0            0.0            0.0\n",
       "Lari       O      2            0.0            0.0            1.0\n",
       "Lele       O      2            0.0            0.0            1.0"
      ]
     },
     "execution_count": 7,
     "metadata": {},
     "output_type": "execute_result"
    }
   ],
   "source": [
    "_label_enc_data_test = le.transform(data_test[feat])\n",
    "data_test['Label'] = _label_enc_data_test\n",
    "\n",
    "oh = OneHotEncoder(categories=[categoryLabels_train], sparse=False)\n",
    "oh.fit(_label_enc_data_test.reshape(-1,1))\n",
    "_one_hot_enc_data = oh.transform(_label_enc_data_test.reshape(-1,1))\n",
    "\n",
    "feat_oh = []\n",
    "data_oh = data_test.copy()\n",
    "for i in range(len(oh.categories_[0])):    \n",
    "    col_name = feat+\"_oh_{}_{}\".format(oh.categories_[0][i],le.classes_[i])\n",
    "    data_oh[col_name] = _one_hot_enc_data[:,i]\n",
    "    feat_oh.append(col_name)\n",
    "    \n",
    "print('''Note: There are columns for all labels, that is {}'''.format(feat_oh))\n",
    "data_oh"
   ]
  },
  {
   "cell_type": "code",
   "execution_count": null,
   "metadata": {},
   "outputs": [],
   "source": []
  }
 ],
 "metadata": {
  "kernelspec": {
   "display_name": "Python 3",
   "language": "python",
   "name": "python3"
  },
  "language_info": {
   "codemirror_mode": {
    "name": "ipython",
    "version": 3
   },
   "file_extension": ".py",
   "mimetype": "text/x-python",
   "name": "python",
   "nbconvert_exporter": "python",
   "pygments_lexer": "ipython3",
   "version": "3.7.6"
  }
 },
 "nbformat": 4,
 "nbformat_minor": 4
}
