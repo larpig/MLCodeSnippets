{
 "cells": [
  {
   "cell_type": "code",
   "execution_count": 1,
   "metadata": {},
   "outputs": [],
   "source": [
    "import re"
   ]
  },
  {
   "cell_type": "code",
   "execution_count": 2,
   "metadata": {},
   "outputs": [
    {
     "name": "stdout",
     "output_type": "stream",
     "text": [
      "Search successful.\n"
     ]
    }
   ],
   "source": [
    "# https://www.programiz.com/python-programming/regex\n",
    "\n",
    "pattern = '^a...s$'\n",
    "test_string = 'abyss'\n",
    "result = re.match(pattern, test_string)\n",
    "\n",
    "if result:\n",
    "  print(\"Search successful.\")\n",
    "else:\n",
    "  print(\"Search unsuccessful.\")\t"
   ]
  },
  {
   "cell_type": "code",
   "execution_count": 3,
   "metadata": {},
   "outputs": [
    {
     "name": "stdout",
     "output_type": "stream",
     "text": [
      "+55 (19) 99104-8120: Pattern unsuccessful checked.\n",
      "(19) 99104-8120: Pattern successful checked.\n",
      "(19)99104-8120: Pattern unsuccessful checked.\n",
      "(19)991048120: Pattern unsuccessful checked.\n",
      "19991048120: Pattern unsuccessful checked.\n",
      "1991048120: Pattern unsuccessful checked.\n",
      "991048120: Pattern unsuccessful checked.\n",
      "91048120: Pattern unsuccessful checked.\n",
      "(19) 3289-3186: Pattern successful checked.\n"
     ]
    }
   ],
   "source": [
    "# ===========================================================================================\n",
    "# Como fazer uma expressão regular para telefone celular?\n",
    "# https://pt.stackoverflow.com/questions/46672/como-fazer-uma-express%C3%A3o-regular-para-telefone-celular\n",
    "#\n",
    "# Hoje em dia todos os telefones celulares no Brasil têm nove dígitos e iniciam com o \n",
    "# dígito 9 e todos os telefones fixos têm 8 dígitos e nunca iniciam com o dígito 9. \n",
    "# Eu pessoalmente preferiria formatar o telefone como (xx)xxxxx-xxxx. Assim sendo, \n",
    "# a melhor expressão regular para isso seria essa:\n",
    "#\n",
    "# ^\\([1-9]{2}\\) (?:[2-8]|9[1-9])[0-9]{3}\\-[0-9]{4}$\n",
    "#\n",
    "# A explicação completa dela é:\n",
    "#\n",
    "#    ^ - Início da string.\n",
    "#    \\( - Um abre parênteses.\n",
    "#    [1-9]{2} - Dois dígitos de 1 a 9. Não existem códigos de DDD com o dígito 0.\n",
    "#    \\) - Um fecha parênteses.\n",
    "#      - Um espaço em branco.\n",
    "#    (?:[2-8]|9[1-9]) - O início do número. Representa uma escolha entre o um dígito entre 2 e 8 (a parte do [2-8]) e de um 9 seguido de um dígito de 1 a 9 (a parte do 9[1-9]). O | separa as opções a serem escolhidas. O (?: ... ) agrupa tais escolhas. Telefones fixos começam com dígitos de 2 a 8. Telefones celulares começam com 9 e têm um segundo dígito de 1 a 9. O primeiro dígito nunca será 0 ou 1. Celulares não podem começar com 90 porque esse é o prefixo para ligações a cobrar.\n",
    "#    [0-9]{3} - Os demais três dígitos da primeira metade do número do telefone, perfazendo um total de 4 ou 5 dígitos na primeira metade.\n",
    "#    \\- - Um hífen.\n",
    "#    [0-9]{4} - A segunda metade do número do telefone.\n",
    "#    $ - Final da string.\n",
    "# ===========================================================================================\n",
    "\n",
    "def CheckPhonePattern(phone, pattern):\n",
    "    result = re.match(pattern, phone)\n",
    "\n",
    "    if result:\n",
    "      print(phone + \": Pattern successful checked.\")\n",
    "    else:\n",
    "      print(phone + \": Pattern unsuccessful checked.\")\t\n",
    "    \n",
    "    return result\n",
    "\n",
    "pattern = '^\\([1-9]{2}\\) (?:[2-8]|9[1-9])[0-9]{3}\\-[0-9]{4}$'\n",
    "phones = ['+55 (19) 99104-8120','(19) 99104-8120', '(19)99104-8120', '(19)991048120', '19991048120', '1991048120', '991048120', '91048120', '(19) 3289-3186']\n",
    "result = [CheckPhonePattern(phone, pattern) for phone in phones]"
   ]
  },
  {
   "cell_type": "code",
   "execution_count": 4,
   "metadata": {},
   "outputs": [
    {
     "name": "stdout",
     "output_type": "stream",
     "text": [
      "+55 (19) 99104-8120: Pattern unsuccessful checked.\n",
      "(19) 99104-8120: Pattern unsuccessful checked.\n",
      "(19)99104-8120: Pattern unsuccessful checked.\n",
      "(19)991048120: Pattern unsuccessful checked.\n",
      "19991048120: Pattern successful checked.\n",
      "1991048120: Pattern unsuccessful checked.\n",
      "991048120: Pattern unsuccessful checked.\n",
      "91048120: Pattern unsuccessful checked.\n"
     ]
    }
   ],
   "source": [
    "def CheckCellPhonePattern(phone, pattern):\n",
    "    result = re.match(pattern, phone)\n",
    "\n",
    "    if result:\n",
    "      print(phone + \": Pattern successful checked.\")\n",
    "    else:\n",
    "      print(phone + \": Pattern unsuccessful checked.\")\t\n",
    "    \n",
    "    return result\n",
    "\n",
    "pattern = '^[1-9]{2}9[1-9][0-9]{7}$'\n",
    "phones = ['+55 (19) 99104-8120','(19) 99104-8120', '(19)99104-8120', '(19)991048120', '19991048120', '1991048120', '991048120', '91048120']\n",
    "result = [CheckPhonePattern(phone, pattern) for phone in phones]"
   ]
  },
  {
   "cell_type": "code",
   "execution_count": null,
   "metadata": {},
   "outputs": [],
   "source": []
  }
 ],
 "metadata": {
  "kernelspec": {
   "display_name": "Python 3",
   "language": "python",
   "name": "python3"
  },
  "language_info": {
   "codemirror_mode": {
    "name": "ipython",
    "version": 3
   },
   "file_extension": ".py",
   "mimetype": "text/x-python",
   "name": "python",
   "nbconvert_exporter": "python",
   "pygments_lexer": "ipython3",
   "version": "3.7.6"
  }
 },
 "nbformat": 4,
 "nbformat_minor": 4
}
