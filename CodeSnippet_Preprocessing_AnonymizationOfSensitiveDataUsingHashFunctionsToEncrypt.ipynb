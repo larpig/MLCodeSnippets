{
 "cells": [
  {
   "cell_type": "code",
   "execution_count": 1,
   "metadata": {},
   "outputs": [],
   "source": [
    "import hashlib"
   ]
  },
  {
   "cell_type": "code",
   "execution_count": 2,
   "metadata": {},
   "outputs": [
    {
     "name": "stdout",
     "output_type": "stream",
     "text": [
      "The available algorithms are: \n",
      "{'blake2b', 'sha3_256', 'shake_128', 'sha384', 'sha3_384', 'sha224', 'sha3_224', 'sha1', 'blake2s', 'sha512', 'sha256', 'md5', 'shake_256', 'sha3_512'}\n",
      "The \"guaranteed\" algorithms are: \n",
      "{'blake2b', 'sha3_256', 'shake_128', 'sha384', 'sha3_384', 'sha224', 'sha3_224', 'sha1', 'blake2s', 'sha512', 'sha256', 'md5', 'shake_256', 'sha3_512'}\n",
      "The hased version of 99570865024, using sha256 algorithm, is: \n",
      "69d31cabb3963740102a64f530a982f998e32872ad33c431b87e07f0bdf3b1e6\n",
      "The hased version of 99570865024, using sha256 algorithm, is: \n",
      "69d31cabb3963740102a64f530a982f998e32872ad33c431b87e07f0bdf3b1e6\n",
      "The hased version of 99570865024, using blake2s algorithm, is: \n",
      "56dcc74b084a978a43a2\n"
     ]
    },
    {
     "data": {
      "text/plain": [
       "10"
      ]
     },
     "execution_count": 2,
     "metadata": {},
     "output_type": "execute_result"
    }
   ],
   "source": [
    "# ===========================================================================================\n",
    "# Testing SHA (Secure Hash Algorithms ) \n",
    "# There is a set of cryptographic hash functions supported by Python in the “hashlib” library\n",
    "#\n",
    "# https://docs.python.org/3/library/hashlib.html\n",
    "# https://www.geeksforgeeks.org/sha-in-python/\n",
    "# ===========================================================================================\n",
    "\n",
    "# prints all available algorithms \n",
    "print (\"The available algorithms are: \") \n",
    "print(hashlib.algorithms_available)\n",
    "\n",
    "print (\"The \\\"guaranteed\\\" algorithms are: \") \n",
    "print (hashlib.algorithms_guaranteed) \n",
    "\n",
    "# Text examplt to be hashed\n",
    "text_to_hash = \"99570865024\"\n",
    "\n",
    "# encode() : Converts the string into bytes to be acceptable by hash function.\n",
    "text_encoded = text_to_hash.encode()\n",
    "\n",
    "# hexdigest() : Returns the encoded data in hexadecimal format.\n",
    "hasher = hashlib.sha256()\n",
    "hasher.update(text_encoded)\n",
    "text_hased = hasher.hexdigest()\n",
    "algorithm = hasher.name\n",
    "print('''The hased version of {}, using {} algorithm, is: \\n{}'''.format(text_to_hash, algorithm, text_hased))\n",
    "\n",
    "hasher = hashlib.new(algorithm)\n",
    "hasher.update(text_encoded)\n",
    "text_hased = hasher.hexdigest()\n",
    "algorithm = hasher.name\n",
    "print('''The hased version of {}, using {} algorithm, is: \\n{}'''.format(text_to_hash, algorithm, text_hased))\n",
    "\n",
    "# Comprehensive review of tree hashing: https://blake2.net/blake2_20130129.pdf\n",
    "hash_key = 'vivohubdigital' # key: key for keyed hashing (up to 64 bytes)\n",
    "hash_size = 10 # digest_size: size of output digest in bytes (up to 64 bytes)\n",
    "hasher = hashlib.blake2s(digest_size=hash_size, key=hash_key.encode())\n",
    "hasher.update(text_encoded)\n",
    "algorithm = hasher.name\n",
    "text_hased = hasher.hexdigest()\n",
    "print('''The hased version of {}, using {} algorithm, is: \\n{}'''.format(text_to_hash, algorithm, text_hased))\n",
    "len(text_hased.encode())\n",
    "\n",
    "hasher.digest()\n",
    "len(hasher.digest())"
   ]
  },
  {
   "cell_type": "code",
   "execution_count": 3,
   "metadata": {},
   "outputs": [
    {
     "name": "stdout",
     "output_type": "stream",
     "text": [
      "CPF 99570865024 was hased to 56dcc74b084a978a43a2\n",
      "CPF 08119377044 was hased to c943aae7761b4574cdba\n",
      "CPF 62378193041 was hased to fcab1b7abcda7f7591d6\n",
      "CPF 86840863689 was hased to 8cd82200847fb7fadde3\n",
      "CPF 15706246742 was hased to 2443ce14f75331fdffb4\n",
      "CPF 17421233334 was hased to 7f1d59580051aa99cc55\n",
      "CPF 39112273376 was hased to 214200a4744f9d2be197\n",
      "CPF 17410586940 was hased to 9621a4724df8ce8d8ae5\n",
      "CPF 95764578906 was hased to cece048de9db09dfdba7\n",
      "CPF 96920476525 was hased to 978d5c40efde3165c20e\n",
      "CPF 54974313053 was hased to 609eaf8663a26822716c\n",
      "CPF 73834856703 was hased to c9c7ad61d4223297947a\n",
      "CPF 82861814683 was hased to cb5617e46e755f7b2c13\n",
      "CPF 99964092954 was hased to 731fb173af83fa88fe70\n",
      "CPF 41887432124 was hased to 0d79020baafde46b7122\n",
      "CPF 87357725227 was hased to 4fbd1d7082d52e4bd9ae\n",
      "CPF 59841951274 was hased to a4fbf1cda9c8f18b9355\n",
      "CPF 14254154909 was hased to 879c1b25353b7f0f3c59\n",
      "CPF 56243913902 was hased to 2582d047003c6a70a3f5\n",
      "CPF 56045292812 was hased to 213a141b4bb336a23482\n"
     ]
    }
   ],
   "source": [
    "# ===========================================================================================\n",
    "# Using blake2s SHA to encrypt CPFs\n",
    "# ===========================================================================================\n",
    "\n",
    "CPFs = [\n",
    "\t\"99570865024\",\n",
    "\t\"08119377044\",\n",
    "\t\"62378193041\",\n",
    "\t\"86840863689\",\n",
    "\t\"15706246742\",\n",
    "\t\"17421233334\",\n",
    "\t\"39112273376\",\n",
    "\t\"17410586940\",\n",
    "\t\"95764578906\",\n",
    "\t\"96920476525\",\n",
    "\t\"54974313053\",\n",
    "\t\"73834856703\",\n",
    "\t\"82861814683\",\n",
    "\t\"99964092954\",\n",
    "\t\"41887432124\",\n",
    "\t\"87357725227\",\n",
    "\t\"59841951274\",\n",
    "\t\"14254154909\",\n",
    "\t\"56243913902\",\n",
    "\t\"56045292812\"\n",
    "]\n",
    "\n",
    "SECRET_KEY = 'vivohubdigital'\n",
    "HASH_SIZE = 10\n",
    "\n",
    "def hasher(text):\n",
    "    h = hashlib.blake2s(digest_size=HASH_SIZE, key=SECRET_KEY.encode())\n",
    "    h.update(text.encode())\n",
    "    return h.hexdigest()\n",
    "\n",
    "CPFs_hashed = [hasher(CPF) for CPF in CPFs]\n",
    "\n",
    "for CPF, CPF_hashed in zip(CPFs, CPFs_hashed): \n",
    "    print('''CPF {} was hased to {}'''.format(CPF, CPF_hashed))"
   ]
  },
  {
   "cell_type": "code",
   "execution_count": null,
   "metadata": {},
   "outputs": [],
   "source": []
  }
 ],
 "metadata": {
  "kernelspec": {
   "display_name": "Python 3",
   "language": "python",
   "name": "python3"
  },
  "language_info": {
   "codemirror_mode": {
    "name": "ipython",
    "version": 3
   },
   "file_extension": ".py",
   "mimetype": "text/x-python",
   "name": "python",
   "nbconvert_exporter": "python",
   "pygments_lexer": "ipython3",
   "version": "3.7.6"
  }
 },
 "nbformat": 4,
 "nbformat_minor": 4
}
