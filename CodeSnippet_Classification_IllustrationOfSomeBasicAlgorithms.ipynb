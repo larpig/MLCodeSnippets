{
  "nbformat": 4,
  "nbformat_minor": 0,
  "metadata": {
    "colab": {
      "name": "CodeSnippet_Classification_IllustrationOfSomeBasicAlgorithms.ipynb",
      "provenance": [],
      "collapsed_sections": []
    },
    "kernelspec": {
      "name": "python3",
      "display_name": "Python 3"
    }
  },
  "cells": [
    {
      "cell_type": "code",
      "metadata": {
        "id": "b-WixW-bQ8hg"
      },
      "source": [
        "import numpy as np\n",
        "\n",
        "from sklearn.linear_model import LogisticRegression\n",
        "from sklearn.svm import SVC\n",
        "from sklearn.tree import DecisionTreeClassifier\n",
        "\n",
        "from sklearn.metrics import accuracy_score, precision_score, recall_score, f1_score, precision_recall_fscore_support\n",
        "\n",
        "from sklearn.tree import export_text\n",
        "\n",
        "import matplotlib.pyplot as plt"
      ],
      "execution_count": null,
      "outputs": []
    },
    {
      "cell_type": "code",
      "metadata": {
        "id": "7Z8DxpcMOiyJ"
      },
      "source": [
        "RANDOM_STATE = 42"
      ],
      "execution_count": null,
      "outputs": []
    },
    {
      "cell_type": "markdown",
      "metadata": {
        "id": "t9y1sNKeCV0Y"
      },
      "source": [
        "# Dataset 1 -  A dataset which is linearly separable"
      ]
    },
    {
      "cell_type": "code",
      "metadata": {
        "id": "Db43R8zsO-wj"
      },
      "source": [
        "# Dataset\n",
        "\n",
        "# Positive instances\n",
        "\n",
        "x1_1 = [1, 2, 3, 4, 5, 6, 7]\n",
        "x2_1 = [x+3 for x in x1_1]\n",
        "y_1  = [1 for x in x1_1]\n",
        "\n",
        "x1_2 = [1, 2, 3, 4, 5]\n",
        "x2_2 = [x+5 for x in x1_2]\n",
        "y_2  = [1 for x in x1_2]\n",
        "\n",
        "# Negative instances\n",
        "\n",
        "x1_3 = [x+3 for x in x1_1]\n",
        "x2_3 = [x-3 for x in x1_3]\n",
        "y_3  = [0 for x in x1_3]\n",
        "\n",
        "x1_4 = [x+5 for x in x1_2]\n",
        "x2_4 = [x-5 for x in x1_4]\n",
        "y_4  = [0 for x in x1_4]\n",
        "\n",
        "x1 = np.array(x1_1 + x1_2 + x1_3 + x1_4)\n",
        "x2 = np.array(x2_1 + x2_2 + x2_3 + x2_4)\n",
        "\n",
        "X = np.array([x1,x2]).transpose()\n",
        "y = np.array(y_1 + y_2 + y_3 + y_4)"
      ],
      "execution_count": null,
      "outputs": []
    },
    {
      "cell_type": "code",
      "metadata": {
        "colab": {
          "base_uri": "https://localhost:8080/",
          "height": 404
        },
        "id": "PcVTwqDF9Ppi",
        "outputId": "2e7e763a-72b5-4dd5-9534-7723049d07c0"
      },
      "source": [
        "# Plot dataset\n",
        "\n",
        "fig, ax = plt.subplots(nrows=1,ncols=1, figsize=(6,6))\n",
        "plt.title('Dataset 1')\n",
        "plt.xlim([X.min()-1, X.max()+1])\n",
        "plt.ylim([X.min()-1, X.max()+1])\n",
        "\n",
        "markers = ['x', 's']\n",
        "marker_label = [markers[i] for i in y]\n",
        "colors = [plt.cm.nipy_spectral(each) for each in np.linspace(0, 0.8, len(np.unique(y)))]\n",
        "color_pred = [colors[i] for i in y]\n",
        "\n",
        "for i in range(len(y)):   \n",
        "    plt.scatter(X[i,0], X[i,1], marker=marker_label[i], color=color_pred[i]) \n",
        "\n",
        "ax.set_xlabel(\"x1\")\n",
        "ax.set_ylabel(\"x2\")\n",
        "ax.grid(True)\n",
        "#fig.savefig(fig_name, bbox_inches='tight', dpi=600)"
      ],
      "execution_count": null,
      "outputs": [
        {
          "output_type": "display_data",
          "data": {
            "image/png": "[encoded data removed]",
            "text/plain": [
              "<Figure size 432x432 with 1 Axes>"
            ]
          },
          "metadata": {
            "tags": [],
            "needs_background": "light"
          }
        }
      ]
    },
    {
      "cell_type": "code",
      "metadata": {
        "colab": {
          "base_uri": "https://localhost:8080/",
          "height": 431
        },
        "id": "XFzSVir935jF",
        "outputId": "c784f8cc-2f8f-4c6a-97e8-eafc9169efe1"
      },
      "source": [
        "# Plot target variable\n",
        "\n",
        "fig, ax = plt.subplots(nrows=1,ncols=2, figsize=(13,6))\n",
        "plt.suptitle('Dataset 1')\n",
        "\n",
        "markers = ['x', 's']\n",
        "marker_label = [markers[i] for i in y]\n",
        "colors = [plt.cm.nipy_spectral(each) for each in np.linspace(0, 0.8, len(np.unique(y)))]\n",
        "color_pred = [colors[i] for i in y]\n",
        "\n",
        "for i in range(len(y)):   \n",
        "    ax[0].scatter(X[i,0], y[i], marker=marker_label[i], color=color_pred[i]) \n",
        "#ax[0].set_xlim([X.min()-1, X.max()+1])\n",
        "ax[0].set_ylim([-1, +2])\n",
        "ax[0].set_xlabel(\"x1\")\n",
        "ax[0].set_ylabel(\"y\")\n",
        "ax[0].grid(True)\n",
        "\n",
        "for i in range(len(y)):   \n",
        "    ax[1].scatter(X[i,1], y[i], marker=marker_label[i], color=color_pred[i]) \n",
        "#ax[1].set_xlim([X.min()-1, X.max()+1])\n",
        "ax[1].set_ylim([-1, +2])\n",
        "ax[1].set_xlabel(\"x2\")\n",
        "ax[1].set_ylabel(\"y\")\n",
        "ax[1].grid(True)\n",
        "\n",
        "#fig.savefig(fig_name, bbox_inches='tight', dpi=600)"
      ],
      "execution_count": null,
      "outputs": [
        {
          "output_type": "display_data",
          "data": {
            "image/png": "[encoded data removed]",
            "text/plain": [
              "<Figure size 936x432 with 2 Axes>"
            ]
          },
          "metadata": {
            "tags": [],
            "needs_background": "light"
          }
        }
      ]
    },
    {
      "cell_type": "code",
      "metadata": {
        "colab": {
          "base_uri": "https://localhost:8080/"
        },
        "id": "BAVVyL_ePAOe",
        "outputId": "d728898f-25f5-4ab3-822a-f6f50c3b41fb"
      },
      "source": [
        "# ===========================================================================================\n",
        "# Logistic Regression\n",
        "# https://scikit-learn.org/stable/modules/generated/sklearn.linear_model.LogisticRegression.html\n",
        "# ===========================================================================================\n",
        "\n",
        "lgc = LogisticRegression(fit_intercept=True, penalty='none', random_state=RANDOM_STATE)\n",
        "lgc.fit(X, y)\n",
        "y_pred = lgc.predict(X)\n",
        "\n",
        "accuracy = accuracy_score(y, y_pred)\n",
        "precision = precision_score(y, y_pred)\n",
        "recall = recall_score(y, y_pred)\n",
        "f1score = f1_score(y, y_pred)\n",
        "print('''Metrics for Logistic Regression Classifier: ''' + \n",
        "      '''\\n \\t accuracy: {} \\n\\t precision: {} \\n\\t recall: {} \\n\\t f1score: {}''' \n",
        "      .format(accuracy, precision, recall, f1score))\n",
        "\n",
        "coefs_lg = list(lgc.intercept_) + list(lgc.coef_[0])\n",
        "print('Coeficients:')\n",
        "for i, c in enumerate(coefs_lg):\n",
        "  print(f'\\t b_{i} = {c}')"
      ],
      "execution_count": null,
      "outputs": [
        {
          "output_type": "stream",
          "text": [
            "Metrics for Logistic Regression Classifier: \n",
            " \t accuracy: 1.0 \n",
            "\t precision: 1.0 \n",
            "\t recall: 1.0 \n",
            "\t f1score: 1.0\n",
            "Coeficients:\n",
            "\t b_0 = -0.0011536598865481554\n",
            "\t b_1 = -4.378278275431406\n",
            "\t b_2 = 4.358146097093288\n"
          ],
          "name": "stdout"
        }
      ]
    },
    {
      "cell_type": "markdown",
      "metadata": {
        "id": "hLSgIO41XfMt"
      },
      "source": [
        "## Equação da Regressão Logística\n",
        "\n",
        "![](https://saedsayad.com/images/LogReg_1.png)\n",
        "\n",
        "**Fronteira entre as classes no espaço de instancias**\n",
        "\n",
        "$\\displaystyle p=0.5 \\rightarrow e^{-(b_0 + b_1 x_1 + b_2 x_2)}=1$\n",
        "\n",
        "$\\displaystyle e^{-(b_0 + b_1 x_1 + b_2 x_2)}=1 \\rightarrow b_0 + b_1 x_1 + b_2 x_2 = 0$\n",
        "\n",
        "$\\displaystyle b_0 + b_1 x_1 + b_2 x_2 = 0 \\rightarrow x_2 = a_0 + a_1 x_1, \\quad a_0=-\\frac{b_0}{b_2}, \\ a_1= -\\frac{b_1}{b_2} $"
      ]
    },
    {
      "cell_type": "code",
      "metadata": {
        "colab": {
          "base_uri": "https://localhost:8080/",
          "height": 404
        },
        "id": "SEjMZ4o0Z5Rf",
        "outputId": "53d18cfb-86a6-4d20-9453-6b803d1f0645"
      },
      "source": [
        "# Computing and ploting the bondary between x1 and x2\n",
        "\n",
        "fig, ax = plt.subplots(nrows=1,ncols=1, figsize=(6,6))\n",
        "plt.title('Bondaries for linear classifiers')\n",
        "plt.xlim([X.min()-1, X.max()+1])\n",
        "plt.ylim([X.min()-1, X.max()+1])\n",
        "\n",
        "a_0 = -coefs_lg[0]/coefs_lg[2]\n",
        "a_1 = -coefs_lg[1]/coefs_lg[2]\n",
        "\n",
        "x_bound = np.linspace(X.min(), X.max(), 10)\n",
        "y_bound = [a_0 + a_1*x for x in x_bound]\n",
        "\n",
        "plt.plot(x_bound, y_bound, 'b--')\n",
        "ax.legend(['LR'], loc=2, framealpha=0)\n",
        "\n",
        "markers = ['x', 's']\n",
        "marker_label = [markers[i] for i in y]\n",
        "colors = [plt.cm.nipy_spectral(each) for each in np.linspace(0, 0.8, len(np.unique(y)))]\n",
        "color_pred = [colors[i] for i in y]\n",
        "\n",
        "for i in range(len(y)):   \n",
        "    plt.scatter(X[i,0], X[i,1], marker=marker_label[i], color=color_pred[i]) \n",
        "\n",
        "ax.set_xlabel(\"x1\")\n",
        "ax.set_ylabel(\"x2\")\n",
        "ax.grid(True)\n",
        "#fig.savefig(fig_name, bbox_inches='tight', dpi=600)"
      ],
      "execution_count": null,
      "outputs": [
        {
          "output_type": "display_data",
          "data": {
            "image/png": "[encoded data removed]",
            "text/plain": [
              "<Figure size 432x432 with 1 Axes>"
            ]
          },
          "metadata": {
            "tags": [],
            "needs_background": "light"
          }
        }
      ]
    },
    {
      "cell_type": "markdown",
      "metadata": {
        "id": "k4dDR8wb3UIr"
      },
      "source": [
        "## Ideia do Support-vector machine\n",
        "\n",
        "<img src=\"https://upload.wikimedia.org/wikipedia/commons/thumb/7/72/SVM_margin.png/800px-SVM_margin.png\" alt=\"SVM\" width=\"400\"/>"
      ]
    },
    {
      "cell_type": "code",
      "metadata": {
        "colab": {
          "base_uri": "https://localhost:8080/"
        },
        "id": "linYxLR4w-Xx",
        "outputId": "70598dbd-753f-4fb3-c898-f4737a120097"
      },
      "source": [
        "# ===========================================================================================\n",
        "# Support Vector Machines Classifier\n",
        "# https://scikit-learn.org/stable/modules/svm.html\n",
        "# https://scikit-learn.org/stable/modules/generated/sklearn.svm.SVC.html#sklearn.svm.SVC\n",
        "# https://scikit-learn.org/stable/modules/generated/sklearn.svm.NuSVC.html#sklearn.svm.NuSVC\n",
        "# https://scikit-learn.org/stable/modules/generated/sklearn.svm.LinearSVC.html#sklearn.svm.LinearSVC\n",
        "# ===========================================================================================\n",
        "\n",
        "svm = SVC(kernel='linear', random_state=RANDOM_STATE)\n",
        "svm.fit(X, y)\n",
        "y_pred = svm.predict(X)\n",
        "\n",
        "accuracy = accuracy_score(y, y_pred)\n",
        "precision = precision_score(y, y_pred)\n",
        "recall = recall_score(y, y_pred)\n",
        "f1score = f1_score(y, y_pred)\n",
        "print('''Metrics for SVM Classifier: ''' + \n",
        "      '''\\n \\t accuracy: {} \\n\\t precision: {} \\n\\t recall: {} \\n\\t f1score: {}''' \n",
        "      .format(accuracy, precision, recall, f1score))\n",
        "\n",
        "coefs_svm = list(svm.intercept_) + list(svm.coef_[0])\n",
        "print('Coeficients:')\n",
        "for i, c in enumerate(coefs_svm):\n",
        "  print(f'\\t b_{i} = {c}')"
      ],
      "execution_count": null,
      "outputs": [
        {
          "output_type": "stream",
          "text": [
            "Metrics for SVM Classifier: \n",
            " \t accuracy: 1.0 \n",
            "\t precision: 1.0 \n",
            "\t recall: 1.0 \n",
            "\t f1score: 1.0\n",
            "Coeficients:\n",
            "\t b_0 = 3.859462336962167e-05\n",
            "\t b_1 = -0.33333111525153036\n",
            "\t b_2 = 0.3333244610061219\n"
          ],
          "name": "stdout"
        }
      ]
    },
    {
      "cell_type": "code",
      "metadata": {
        "colab": {
          "base_uri": "https://localhost:8080/",
          "height": 404
        },
        "id": "Q7BGrJ8jAs7b",
        "outputId": "00b4a3f2-2297-4d74-92bc-2709d1e60aa2"
      },
      "source": [
        "# Computing and ploting the bondary between x1 and x2\n",
        "\n",
        "fig, ax = plt.subplots(nrows=1,ncols=1, figsize=(6,6))\n",
        "plt.title('Bondaries for linear classifiers')\n",
        "plt.xlim([X.min()-1, X.max()+1])\n",
        "plt.ylim([X.min()-1, X.max()+1])\n",
        "\n",
        "# 1. Logistic Regression\n",
        "\n",
        "a_0 = -coefs_lg[0]/coefs_lg[2]\n",
        "a_1 = -coefs_lg[1]/coefs_lg[2]\n",
        "\n",
        "x_bound = np.linspace(X.min(), X.max(), 10)\n",
        "y_bound = [a_0 + a_1*x for x in x_bound]\n",
        "\n",
        "plt.plot(x_bound, y_bound, 'b--')\n",
        "\n",
        "# 2. SVM\n",
        "\n",
        "a_0 = -coefs_svm[0]/coefs_svm[2]\n",
        "a_1 = -coefs_svm[1]/coefs_svm[2]\n",
        "\n",
        "x_bound = np.linspace(X.min(), X.max(), 10)\n",
        "y_bound = [a_0 + a_1*x for x in x_bound]\n",
        "\n",
        "plt.plot(x_bound, y_bound, 'r:')\n",
        "ax.legend(['LR', 'SVM'], loc=2, framealpha=0)\n",
        "\n",
        "# 3. Train Data\n",
        "\n",
        "markers = ['x', 's']\n",
        "marker_label = [markers[i] for i in y]\n",
        "colors = [plt.cm.nipy_spectral(each) for each in np.linspace(0, 0.8, len(np.unique(y)))]\n",
        "color_pred = [colors[i] for i in y]\n",
        "\n",
        "for i in range(len(y)):   \n",
        "    plt.scatter(X[i,0], X[i,1], marker=marker_label[i], color=color_pred[i]) \n",
        "\n",
        "ax.set_xlabel(\"x1\")\n",
        "ax.set_ylabel(\"x2\")\n",
        "ax.grid(True)\n",
        "#fig.savefig(fig_name, bbox_inches='tight', dpi=600)"
      ],
      "execution_count": null,
      "outputs": [
        {
          "output_type": "display_data",
          "data": {
            "image/png": "[encoded data removed]",
            "text/plain": [
              "<Figure size 432x432 with 1 Axes>"
            ]
          },
          "metadata": {
            "tags": [],
            "needs_background": "light"
          }
        }
      ]
    },
    {
      "cell_type": "markdown",
      "metadata": {
        "id": "IqXN7IBwCgdF"
      },
      "source": [
        "# Dataset 2 -  A dataset which is linearly separable, but it's almost not"
      ]
    },
    {
      "cell_type": "code",
      "metadata": {
        "id": "hUE9ruD_PAH9"
      },
      "source": [
        "# Dataset\n",
        "\n",
        "# Positive instances\n",
        "\n",
        "x1_1 = [1, 2, 3, 4, 5, 6, 7]\n",
        "x2_1 = [x+3 for x in x1_1]\n",
        "y_1  = [1 for x in x1_1]\n",
        "\n",
        "x1_2 = [1, 2, 3, 4, 5]\n",
        "x2_2 = [x+5 for x in x1_2]\n",
        "y_2  = [1 for x in x1_2]\n",
        "\n",
        "# Negative instances\n",
        "\n",
        "x1_3 = [x+3 for x in x1_1]\n",
        "x2_3 = [x-3 for x in x1_3]\n",
        "y_3  = [0 for x in x1_3]\n",
        "\n",
        "x1_4 = [x+5 for x in x1_2]\n",
        "x2_4 = [x-5 for x in x1_4]\n",
        "y_4  = [0 for x in x1_4]\n",
        "\n",
        "x1 = np.array(x1_1 + x1_2 + x1_3 + x1_4 + [4])\n",
        "x2 = np.array(x2_1 + x2_2 + x2_3 + x2_4 + [2])\n",
        "\n",
        "X = np.array([x1,x2]).transpose()\n",
        "y = np.array(y_1 + y_2 + y_3 + y_4 + [1])"
      ],
      "execution_count": null,
      "outputs": []
    },
    {
      "cell_type": "code",
      "metadata": {
        "colab": {
          "base_uri": "https://localhost:8080/",
          "height": 404
        },
        "id": "2K6ztiAXPAF-",
        "outputId": "6f3a5671-7afe-4359-f18c-40a3fa309bcc"
      },
      "source": [
        "# Plot dataset\n",
        "\n",
        "fig, ax = plt.subplots(nrows=1,ncols=1, figsize=(6,6))\n",
        "plt.title('Dataset 2')\n",
        "plt.xlim([X.min()-1, X.max()+1])\n",
        "plt.ylim([X.min()-1, X.max()+1])\n",
        "\n",
        "markers = ['x', 's']\n",
        "marker_label = [markers[i] for i in y]\n",
        "colors = [plt.cm.nipy_spectral(each) for each in np.linspace(0, 0.8, len(np.unique(y)))]\n",
        "color_pred = [colors[i] for i in y]\n",
        "\n",
        "for i in range(len(y)):   \n",
        "    plt.scatter(X[i,0], X[i,1], marker=marker_label[i], color=color_pred[i]) \n",
        "\n",
        "ax.set_xlabel(\"x1\")\n",
        "ax.set_ylabel(\"x2\")\n",
        "ax.grid(True)\n",
        "#fig.savefig(fig_name, bbox_inches='tight', dpi=600)"
      ],
      "execution_count": null,
      "outputs": [
        {
          "output_type": "display_data",
          "data": {
            "image/png": "[encoded data removed]",
            "text/plain": [
              "<Figure size 432x432 with 1 Axes>"
            ]
          },
          "metadata": {
            "tags": [],
            "needs_background": "light"
          }
        }
      ]
    },
    {
      "cell_type": "code",
      "metadata": {
        "colab": {
          "base_uri": "https://localhost:8080/"
        },
        "id": "qL5SaAqJefLv",
        "outputId": "cbfbce10-a9e0-45c5-b65d-9fe654e1add4"
      },
      "source": [
        "# ===========================================================================================\n",
        "# Logistic Regression\n",
        "# https://scikit-learn.org/stable/modules/generated/sklearn.linear_model.LogisticRegression.html\n",
        "# ===========================================================================================\n",
        "\n",
        "lgc = LogisticRegression(fit_intercept=True, penalty='none', random_state=RANDOM_STATE)\n",
        "lgc.fit(X, y)\n",
        "y_pred = lgc.predict(X)\n",
        "\n",
        "accuracy = accuracy_score(y, y_pred)\n",
        "precision = precision_score(y, y_pred)\n",
        "recall = recall_score(y, y_pred)\n",
        "f1score = f1_score(y, y_pred)\n",
        "print('''Metrics for Logistic Regression Classifier: ''' + \n",
        "      '''\\n \\t accuracy: {} \\n\\t precision: {} \\n\\t recall: {} \\n\\t f1score: {}''' \n",
        "      .format(accuracy, precision, recall, f1score))\n",
        "\n",
        "coefs_lg = list(lgc.intercept_) + list(lgc.coef_[0])\n",
        "print('Coeficients:')\n",
        "for i, c in enumerate(coefs_lg):\n",
        "  print(f'\\t b_{i} = {c}')"
      ],
      "execution_count": null,
      "outputs": [
        {
          "output_type": "stream",
          "text": [
            "Metrics for Logistic Regression Classifier: \n",
            " \t accuracy: 1.0 \n",
            "\t precision: 1.0 \n",
            "\t recall: 1.0 \n",
            "\t f1score: 1.0\n",
            "Coeficients:\n",
            "\t b_0 = 71.32801969479333\n",
            "\t b_1 = -26.08599122803516\n",
            "\t b_2 = 21.708176728851498\n"
          ],
          "name": "stdout"
        }
      ]
    },
    {
      "cell_type": "code",
      "metadata": {
        "colab": {
          "base_uri": "https://localhost:8080/"
        },
        "id": "m2jqErN5esZ4",
        "outputId": "23381376-526c-4f3b-bc82-664ff857a782"
      },
      "source": [
        "# ===========================================================================================\n",
        "# Support Vector Machines Classifier\n",
        "# https://scikit-learn.org/stable/modules/svm.html\n",
        "# https://scikit-learn.org/stable/modules/generated/sklearn.svm.SVC.html#sklearn.svm.SVC\n",
        "# https://scikit-learn.org/stable/modules/generated/sklearn.svm.NuSVC.html#sklearn.svm.NuSVC\n",
        "# https://scikit-learn.org/stable/modules/generated/sklearn.svm.LinearSVC.html#sklearn.svm.LinearSVC\n",
        "# ===========================================================================================\n",
        "\n",
        "svm = SVC(kernel='linear', random_state=RANDOM_STATE)\n",
        "svm.fit(X, y)\n",
        "y_pred = svm.predict(X)\n",
        "\n",
        "accuracy = accuracy_score(y, y_pred)\n",
        "precision = precision_score(y, y_pred)\n",
        "recall = recall_score(y, y_pred)\n",
        "f1score = f1_score(y, y_pred)\n",
        "print('''Metrics for SVM Classifier: ''' + \n",
        "      '''\\n \\t accuracy: {} \\n\\t precision: {} \\n\\t recall: {} \\n\\t f1score: {}''' \n",
        "      .format(accuracy, precision, recall, f1score))\n",
        "\n",
        "coefs_svm = list(svm.intercept_) + list(svm.coef_[0])\n",
        "print('Coeficients:')\n",
        "for i, c in enumerate(coefs_svm):\n",
        "  print(f'\\t b_{i} = {c}')"
      ],
      "execution_count": null,
      "outputs": [
        {
          "output_type": "stream",
          "text": [
            "Metrics for SVM Classifier: \n",
            " \t accuracy: 0.96 \n",
            "\t precision: 1.0 \n",
            "\t recall: 0.9230769230769231 \n",
            "\t f1score: 0.9600000000000001\n",
            "Coeficients:\n",
            "\t b_0 = 0.49999999999999845\n",
            "\t b_1 = -0.5\n",
            "\t b_2 = 0.5\n"
          ],
          "name": "stdout"
        }
      ]
    },
    {
      "cell_type": "code",
      "metadata": {
        "colab": {
          "base_uri": "https://localhost:8080/",
          "height": 404
        },
        "id": "ukcHFYUxsaaf",
        "outputId": "2071b4c8-9657-4626-c530-2d9d47790bb5"
      },
      "source": [
        "# Computing and ploting the bondary between x1 and x2\n",
        "\n",
        "fig, ax = plt.subplots(nrows=1,ncols=1, figsize=(6,6))\n",
        "plt.title('Bondaries for linear classifiers')\n",
        "plt.xlim([X.min()-1, X.max()+1])\n",
        "plt.ylim([X.min()-1, X.max()+1])\n",
        "\n",
        "# 1. Logistic Regression\n",
        "\n",
        "a_0 = -coefs_lg[0]/coefs_lg[2]\n",
        "a_1 = -coefs_lg[1]/coefs_lg[2]\n",
        "\n",
        "x_bound = np.linspace(X.min(), X.max(), 10)\n",
        "y_bound = [a_0 + a_1*x for x in x_bound]\n",
        "\n",
        "plt.plot(x_bound, y_bound, 'b--')\n",
        "\n",
        "# 2. SVM\n",
        "\n",
        "a_0 = -coefs_svm[0]/coefs_svm[2]\n",
        "a_1 = -coefs_svm[1]/coefs_svm[2]\n",
        "\n",
        "x_bound = np.linspace(X.min(), X.max(), 10)\n",
        "y_bound = [a_0 + a_1*x for x in x_bound]\n",
        "\n",
        "plt.plot(x_bound, y_bound, 'r:')\n",
        "ax.legend(['LR', 'SVM'], loc=2, framealpha=0)\n",
        "\n",
        "# 3. Train Data\n",
        "\n",
        "markers = ['x', 's']\n",
        "marker_label = [markers[i] for i in y]\n",
        "colors = [plt.cm.nipy_spectral(each) for each in np.linspace(0, 0.8, len(np.unique(y)))]\n",
        "color_pred = [colors[i] for i in y]\n",
        "\n",
        "for i in range(len(y)):   \n",
        "    plt.scatter(X[i,0], X[i,1], marker=marker_label[i], color=color_pred[i]) \n",
        "\n",
        "ax.set_xlabel(\"x1\")\n",
        "ax.set_ylabel(\"x2\")\n",
        "ax.grid(True)\n",
        "#fig.savefig(fig_name, bbox_inches='tight', dpi=600)"
      ],
      "execution_count": null,
      "outputs": [
        {
          "output_type": "display_data",
          "data": {
            "image/png": "[encoded data removed]",
            "text/plain": [
              "<Figure size 432x432 with 1 Axes>"
            ]
          },
          "metadata": {
            "tags": [],
            "needs_background": "light"
          }
        }
      ]
    },
    {
      "cell_type": "markdown",
      "metadata": {
        "id": "EU4_rLLYoRBa"
      },
      "source": [
        "# Dataset 3 -  A dataset which isn't linearly separable, but it almost is"
      ]
    },
    {
      "cell_type": "code",
      "metadata": {
        "id": "sLXOxtkzoSeN"
      },
      "source": [
        "# Dataset\n",
        "\n",
        "# Positive instances\n",
        "\n",
        "x1_1 = [1, 2, 3, 4, 5, 6, 7]\n",
        "x2_1 = [x+3 for x in x1_1]\n",
        "y_1  = [1 for x in x1_1]\n",
        "\n",
        "x1_2 = [1, 2, 3, 4, 5]\n",
        "x2_2 = [x+5 for x in x1_2]\n",
        "y_2  = [1 for x in x1_2]\n",
        "\n",
        "# Negative instances\n",
        "\n",
        "x1_3 = [x+3 for x in x1_1]\n",
        "x2_3 = [x-3 for x in x1_3]\n",
        "y_3  = [0 for x in x1_3]\n",
        "\n",
        "x1_4 = [x+5 for x in x1_2]\n",
        "x2_4 = [x-5 for x in x1_4]\n",
        "y_4  = [0 for x in x1_4]\n",
        "\n",
        "x1 = np.array(x1_1 + x1_2 + x1_3 + x1_4 + [4, 9])\n",
        "x2 = np.array(x2_1 + x2_2 + x2_3 + x2_4 + [2, 5])\n",
        "\n",
        "X = np.array([x1,x2]).transpose()\n",
        "y = np.array(y_1 + y_2 + y_3 + y_4 + [1, 1])"
      ],
      "execution_count": null,
      "outputs": []
    },
    {
      "cell_type": "code",
      "metadata": {
        "colab": {
          "base_uri": "https://localhost:8080/",
          "height": 404
        },
        "id": "TuytPMXEoSYj",
        "outputId": "732bb27b-7baa-4fc6-de36-4783ce97b7e5"
      },
      "source": [
        "# Plot dataset\n",
        "\n",
        "fig, ax = plt.subplots(nrows=1,ncols=1, figsize=(6,6))\n",
        "plt.title('Dataset 2')\n",
        "plt.xlim([X.min()-1, X.max()+1])\n",
        "plt.ylim([X.min()-1, X.max()+1])\n",
        "\n",
        "markers = ['x', 's']\n",
        "marker_label = [markers[i] for i in y]\n",
        "colors = [plt.cm.nipy_spectral(each) for each in np.linspace(0, 0.8, len(np.unique(y)))]\n",
        "color_pred = [colors[i] for i in y]\n",
        "\n",
        "for i in range(len(y)):   \n",
        "    plt.scatter(X[i,0], X[i,1], marker=marker_label[i], color=color_pred[i]) \n",
        "\n",
        "ax.set_xlabel(\"x1\")\n",
        "ax.set_ylabel(\"x2\")\n",
        "ax.grid(True)\n",
        "#fig.savefig(fig_name, bbox_inches='tight', dpi=600)"
      ],
      "execution_count": null,
      "outputs": [
        {
          "output_type": "display_data",
          "data": {
            "image/png": "[encoded data removed]",
            "text/plain": [
              "<Figure size 432x432 with 1 Axes>"
            ]
          },
          "metadata": {
            "tags": [],
            "needs_background": "light"
          }
        }
      ]
    },
    {
      "cell_type": "code",
      "metadata": {
        "colab": {
          "base_uri": "https://localhost:8080/"
        },
        "id": "Ipp-cGPgoSXE",
        "outputId": "0e5aae86-c68d-4664-f8bd-dd4aba00d2b3"
      },
      "source": [
        "# ===========================================================================================\n",
        "# Logistic Regression\n",
        "# https://scikit-learn.org/stable/modules/generated/sklearn.linear_model.LogisticRegression.html\n",
        "# ===========================================================================================\n",
        "\n",
        "lgc = LogisticRegression(fit_intercept=True, penalty='none', random_state=RANDOM_STATE)\n",
        "lgc.fit(X, y)\n",
        "y_pred = lgc.predict(X)\n",
        "\n",
        "# The accuracy is the fraction of correctly classified samples\n",
        "accuracy = accuracy_score(y, y_pred)\n",
        "\n",
        "# The precision is the ratio tp / (tp + fp) where tp is the number of true positives and fp \n",
        "# the number of false positives. The precision is intuitively the ability of the classifier \n",
        "# not to label as positive a sample that is negative.\n",
        "precision = precision_score(y, y_pred)\n",
        "\n",
        "# The recall is the ratio tp / (tp + fn) where tp is the number of true positives and fn the \n",
        "# number of false negatives. The recall is intuitively the ability of the classifier to find \n",
        "# all the positive samples.\n",
        "recall = recall_score(y, y_pred)\n",
        "\n",
        "# The F1 score can be interpreted as a harmonic mean of the precision and recall. The formula \n",
        "# for the F1 score is: F1 = 2 * (precision * recall) / (precision + recall)\n",
        "f1score = f1_score(y, y_pred)\n",
        "\n",
        "print('''Metrics for Logistic Regression Classifier: ''' + \n",
        "      '''\\n \\t accuracy: {} \\n\\t precision: {} \\n\\t recall: {} \\n\\t f1score: {}''' \n",
        "      .format(accuracy, precision, recall, f1score))\n",
        "\n",
        "coefs_lg = list(lgc.intercept_) + list(lgc.coef_[0])\n",
        "print('Coeficients:')\n",
        "for i, c in enumerate(coefs_lg):\n",
        "  print(f'\\t b_{i} = {c}')"
      ],
      "execution_count": null,
      "outputs": [
        {
          "output_type": "stream",
          "text": [
            "Metrics for Logistic Regression Classifier: \n",
            " \t accuracy: 0.9230769230769231 \n",
            "\t precision: 1.0 \n",
            "\t recall: 0.8571428571428571 \n",
            "\t f1score: 0.923076923076923\n",
            "Coeficients:\n",
            "\t b_0 = 2.1511080003909377\n",
            "\t b_1 = -1.18432821767378\n",
            "\t b_2 = 1.1866986816311995\n"
          ],
          "name": "stdout"
        }
      ]
    },
    {
      "cell_type": "code",
      "metadata": {
        "id": "5lQCKeYZtVmX",
        "colab": {
          "base_uri": "https://localhost:8080/"
        },
        "outputId": "86541ed5-83af-4e9a-f1a8-c1dd2446b3a8"
      },
      "source": [
        "# ===========================================================================================\n",
        "# Support Vector Machines Classifier\n",
        "# https://scikit-learn.org/stable/modules/svm.html\n",
        "# https://scikit-learn.org/stable/modules/generated/sklearn.svm.SVC.html#sklearn.svm.SVC\n",
        "# https://scikit-learn.org/stable/modules/generated/sklearn.svm.NuSVC.html#sklearn.svm.NuSVC\n",
        "# https://scikit-learn.org/stable/modules/generated/sklearn.svm.LinearSVC.html#sklearn.svm.LinearSVC\n",
        "# ===========================================================================================\n",
        "\n",
        "svm = SVC(kernel='linear', random_state=RANDOM_STATE)\n",
        "svm.fit(X, y)\n",
        "y_pred = svm.predict(X)\n",
        "\n",
        "accuracy = accuracy_score(y, y_pred)\n",
        "precision = precision_score(y, y_pred)\n",
        "recall = recall_score(y, y_pred)\n",
        "f1score = f1_score(y, y_pred)\n",
        "print('''Metrics for SVM Classifier: ''' + \n",
        "      '''\\n \\t accuracy: {} \\n\\t precision: {} \\n\\t recall: {} \\n\\t f1score: {}''' \n",
        "      .format(accuracy, precision, recall, f1score))\n",
        "\n",
        "coefs_svm = list(svm.intercept_) + list(svm.coef_[0])\n",
        "print('Coeficients:')\n",
        "for i, c in enumerate(coefs_svm):\n",
        "  print(f'\\t b_{i} = {c}')"
      ],
      "execution_count": null,
      "outputs": [
        {
          "output_type": "stream",
          "text": [
            "Metrics for SVM Classifier: \n",
            " \t accuracy: 0.9230769230769231 \n",
            "\t precision: 1.0 \n",
            "\t recall: 0.8571428571428571 \n",
            "\t f1score: 0.923076923076923\n",
            "Coeficients:\n",
            "\t b_0 = -6.827871601444713e-15\n",
            "\t b_1 = -0.3333333333333339\n",
            "\t b_2 = 0.3333333333333339\n"
          ],
          "name": "stdout"
        }
      ]
    },
    {
      "cell_type": "code",
      "metadata": {
        "colab": {
          "base_uri": "https://localhost:8080/",
          "height": 404
        },
        "id": "VXrDnc0NovYV",
        "outputId": "4104bcf5-3ee6-4dca-ebe0-9d2e51b882cd"
      },
      "source": [
        "# Computing and ploting the bondary between x1 and x2\n",
        "\n",
        "fig, ax = plt.subplots(nrows=1,ncols=1, figsize=(6,6))\n",
        "plt.title('Bondaries for linear classifiers')\n",
        "plt.xlim([X.min()-1, X.max()+1])\n",
        "plt.ylim([X.min()-1, X.max()+1])\n",
        "\n",
        "# 1. Logistic Regression\n",
        "\n",
        "a_0 = -coefs_lg[0]/coefs_lg[2]\n",
        "a_1 = -coefs_lg[1]/coefs_lg[2]\n",
        "\n",
        "x_bound = np.linspace(X.min(), X.max(), 10)\n",
        "y_bound = [a_0 + a_1*x for x in x_bound]\n",
        "\n",
        "plt.plot(x_bound, y_bound, 'b--')\n",
        "\n",
        "# 2. SVM\n",
        "\n",
        "a_0 = -coefs_svm[0]/coefs_svm[2]\n",
        "a_1 = -coefs_svm[1]/coefs_svm[2]\n",
        "\n",
        "x_bound = np.linspace(X.min(), X.max(), 10)\n",
        "y_bound = [a_0 + a_1*x for x in x_bound]\n",
        "\n",
        "plt.plot(x_bound, y_bound, 'r:')\n",
        "ax.legend(['LR', 'SVM'], loc=2, framealpha=0)\n",
        "\n",
        "# 3. Train Data\n",
        "\n",
        "markers = ['x', 's']\n",
        "marker_label = [markers[i] for i in y]\n",
        "colors = [plt.cm.nipy_spectral(each) for each in np.linspace(0, 0.8, len(np.unique(y)))]\n",
        "color_pred = [colors[i] for i in y]\n",
        "\n",
        "for i in range(len(y)):   \n",
        "    plt.scatter(X[i,0], X[i,1], marker=marker_label[i], color=color_pred[i]) \n",
        "\n",
        "ax.set_xlabel(\"x1\")\n",
        "ax.set_ylabel(\"x2\")\n",
        "ax.grid(True)\n",
        "#fig.savefig(fig_name, bbox_inches='tight', dpi=600)"
      ],
      "execution_count": null,
      "outputs": [
        {
          "output_type": "display_data",
          "data": {
            "image/png": "[encoded data removed]",
            "text/plain": [
              "<Figure size 432x432 with 1 Axes>"
            ]
          },
          "metadata": {
            "tags": [],
            "needs_background": "light"
          }
        }
      ]
    },
    {
      "cell_type": "markdown",
      "metadata": {
        "id": "009ex4nFpdFp"
      },
      "source": [
        "# Dataset 4 - A dataset which isn't linearly separable"
      ]
    },
    {
      "cell_type": "code",
      "metadata": {
        "id": "nEl5RL7Qpeuy"
      },
      "source": [
        "# Dataset\n",
        "\n",
        "# Positive instances\n",
        "\n",
        "x1_1 = [1, 2, 3, 4, 5, 6, 7]\n",
        "x2_1 = [x+3 for x in x1_1]\n",
        "y_1  = [1 for x in x1_1]\n",
        "\n",
        "x1_2 = [1, 2, 3, 4, 5]\n",
        "x2_2 = [x+5 for x in x1_2]\n",
        "y_2  = [1 for x in x1_2]\n",
        "\n",
        "# Negative instances\n",
        "\n",
        "x1_3 = [x+3 for x in x1_1]\n",
        "x2_3 = [x-3 for x in x1_3]\n",
        "y_3  = [0 for x in x1_3]\n",
        "\n",
        "x1_4 = [x+5 for x in x1_2]\n",
        "x2_4 = [x-5 for x in x1_4]\n",
        "y_4  = [0 for x in x1_4]\n",
        "\n",
        "x1 = np.array(x1_1 + x1_2 + x1_3 + x1_4 + [4, 6])\n",
        "x2 = np.array(x2_1 + x2_2 + x2_3 + x2_4 + [2, 0])\n",
        "\n",
        "X = np.array([x1,x2]).transpose()\n",
        "y = np.array(y_1 + y_2 + y_3 + y_4 + [1, 1])"
      ],
      "execution_count": null,
      "outputs": []
    },
    {
      "cell_type": "code",
      "metadata": {
        "colab": {
          "base_uri": "https://localhost:8080/",
          "height": 404
        },
        "id": "t8nRWlWYpekk",
        "outputId": "94447997-0fa8-46ad-d404-261b191ecb90"
      },
      "source": [
        "# Plot dataset\n",
        "\n",
        "fig, ax = plt.subplots(nrows=1,ncols=1, figsize=(6,6))\n",
        "plt.title('Dataset 2')\n",
        "plt.xlim([X.min()-1, X.max()+1])\n",
        "plt.ylim([X.min()-1, X.max()+1])\n",
        "\n",
        "markers = ['x', 's']\n",
        "marker_label = [markers[i] for i in y]\n",
        "colors = [plt.cm.nipy_spectral(each) for each in np.linspace(0, 0.8, len(np.unique(y)))]\n",
        "color_pred = [colors[i] for i in y]\n",
        "\n",
        "for i in range(len(y)):   \n",
        "    plt.scatter(X[i,0], X[i,1], marker=marker_label[i], color=color_pred[i]) \n",
        "\n",
        "ax.set_xlabel(\"x1\")\n",
        "ax.set_ylabel(\"x2\")\n",
        "ax.grid(True)\n",
        "#fig.savefig(fig_name, bbox_inches='tight', dpi=600)"
      ],
      "execution_count": null,
      "outputs": [
        {
          "output_type": "display_data",
          "data": {
            "image/png": "[encoded data removed]",
            "text/plain": [
              "<Figure size 432x432 with 1 Axes>"
            ]
          },
          "metadata": {
            "tags": [],
            "needs_background": "light"
          }
        }
      ]
    },
    {
      "cell_type": "code",
      "metadata": {
        "colab": {
          "base_uri": "https://localhost:8080/"
        },
        "id": "ymuNgXGBpeZt",
        "outputId": "7a7c5af6-8421-4889-cb84-d9c5ac4d558f"
      },
      "source": [
        "# ===========================================================================================\n",
        "# Logistic Regression\n",
        "# https://scikit-learn.org/stable/modules/generated/sklearn.linear_model.LogisticRegression.html\n",
        "# ===========================================================================================\n",
        "\n",
        "lgc = LogisticRegression(fit_intercept=True, penalty='none', random_state=RANDOM_STATE)\n",
        "lgc.fit(X, y)\n",
        "y_pred = lgc.predict(X)\n",
        "\n",
        "accuracy = accuracy_score(y, y_pred)\n",
        "precision = precision_score(y, y_pred)\n",
        "recall = recall_score(y, y_pred)\n",
        "f1score = f1_score(y, y_pred)\n",
        "print('''Metrics for Logistic Regression Classifier: ''' + \n",
        "      '''\\n \\t accuracy: {} \\n\\t precision: {} \\n\\t recall: {} \\n\\t f1score: {}''' \n",
        "      .format(accuracy, precision, recall, f1score))\n",
        "\n",
        "coefs_lg = list(lgc.intercept_) + list(lgc.coef_[0])\n",
        "print('Coeficients:')\n",
        "for i, c in enumerate(coefs_lg):\n",
        "  print(f'\\t b_{i} = {c}')"
      ],
      "execution_count": null,
      "outputs": [
        {
          "output_type": "stream",
          "text": [
            "Metrics for Logistic Regression Classifier: \n",
            " \t accuracy: 0.9230769230769231 \n",
            "\t precision: 0.9285714285714286 \n",
            "\t recall: 0.9285714285714286 \n",
            "\t f1score: 0.9285714285714286\n",
            "Coeficients:\n",
            "\t b_0 = 4.48095315078109\n",
            "\t b_1 = -1.235277490163878\n",
            "\t b_2 = 0.5935813178718877\n"
          ],
          "name": "stdout"
        }
      ]
    },
    {
      "cell_type": "code",
      "metadata": {
        "colab": {
          "base_uri": "https://localhost:8080/"
        },
        "id": "Tol0xOzHpeQm",
        "outputId": "9fb4da95-1ba0-4f9c-ea64-9c99b349d791"
      },
      "source": [
        "# ===========================================================================================\n",
        "# Support Vector Machines Classifier\n",
        "# https://scikit-learn.org/stable/modules/svm.html\n",
        "# https://scikit-learn.org/stable/modules/generated/sklearn.svm.SVC.html#sklearn.svm.SVC\n",
        "# https://scikit-learn.org/stable/modules/generated/sklearn.svm.NuSVC.html#sklearn.svm.NuSVC\n",
        "# https://scikit-learn.org/stable/modules/generated/sklearn.svm.LinearSVC.html#sklearn.svm.LinearSVC\n",
        "# ===========================================================================================\n",
        "\n",
        "svm = SVC(kernel='linear', random_state=RANDOM_STATE)\n",
        "svm.fit(X, y)\n",
        "y_pred = svm.predict(X)\n",
        "\n",
        "accuracy = accuracy_score(y, y_pred)\n",
        "precision = precision_score(y, y_pred)\n",
        "recall = recall_score(y, y_pred)\n",
        "f1score = f1_score(y, y_pred)\n",
        "print('''Metrics for SVM Classifier: ''' + \n",
        "      '''\\n \\t accuracy: {} \\n\\t precision: {} \\n\\t recall: {} \\n\\t f1score: {}''' \n",
        "      .format(accuracy, precision, recall, f1score))\n",
        "\n",
        "coefs_svm = list(svm.intercept_) + list(svm.coef_[0])\n",
        "print('Coeficients:')\n",
        "for i, c in enumerate(coefs_svm):\n",
        "  print(f'\\t b_{i} = {c}')"
      ],
      "execution_count": null,
      "outputs": [
        {
          "output_type": "stream",
          "text": [
            "Metrics for SVM Classifier: \n",
            " \t accuracy: 0.9230769230769231 \n",
            "\t precision: 1.0 \n",
            "\t recall: 0.8571428571428571 \n",
            "\t f1score: 0.923076923076923\n",
            "Coeficients:\n",
            "\t b_0 = 7.679042586990666e-16\n",
            "\t b_1 = -0.3333333333333357\n",
            "\t b_2 = 0.3333333333333335\n"
          ],
          "name": "stdout"
        }
      ]
    },
    {
      "cell_type": "code",
      "metadata": {
        "colab": {
          "base_uri": "https://localhost:8080/",
          "height": 404
        },
        "id": "AyzZQIwBox07",
        "outputId": "d733a9fc-5e02-4a10-9bb8-f51d17c252f3"
      },
      "source": [
        "# Computing and ploting the bondary between x1 and x2\n",
        "\n",
        "fig, ax = plt.subplots(nrows=1,ncols=1, figsize=(6,6))\n",
        "plt.title('Bondaries for linear classifiers')\n",
        "plt.xlim([X.min()-1, X.max()+1])\n",
        "plt.ylim([X.min()-1, X.max()+1])\n",
        "\n",
        "# 1. Logistic Regression\n",
        "\n",
        "a_0 = -coefs_lg[0]/coefs_lg[2]\n",
        "a_1 = -coefs_lg[1]/coefs_lg[2]\n",
        "\n",
        "x_bound = np.linspace(X.min(), X.max(), 10)\n",
        "y_bound = [a_0 + a_1*x for x in x_bound]\n",
        "\n",
        "plt.plot(x_bound, y_bound, 'b--')\n",
        "\n",
        "# 2. SVM\n",
        "\n",
        "a_0 = -coefs_svm[0]/coefs_svm[2]\n",
        "a_1 = -coefs_svm[1]/coefs_svm[2]\n",
        "\n",
        "x_bound = np.linspace(X.min(), X.max(), 10)\n",
        "y_bound = [a_0 + a_1*x for x in x_bound]\n",
        "\n",
        "plt.plot(x_bound, y_bound, 'r:')\n",
        "ax.legend(['LR', 'SVM'], loc=2, framealpha=0)\n",
        "\n",
        "# 3. Train Data\n",
        "\n",
        "markers = ['x', 's']\n",
        "marker_label = [markers[i] for i in y]\n",
        "colors = [plt.cm.nipy_spectral(each) for each in np.linspace(0, 0.8, len(np.unique(y)))]\n",
        "color_pred = [colors[i] for i in y]\n",
        "\n",
        "for i in range(len(y)):   \n",
        "    plt.scatter(X[i,0], X[i,1], marker=marker_label[i], color=color_pred[i]) \n",
        "\n",
        "ax.set_xlabel(\"x1\")\n",
        "ax.set_ylabel(\"x2\")\n",
        "ax.grid(True)\n",
        "#fig.savefig(fig_name, bbox_inches='tight', dpi=600)"
      ],
      "execution_count": null,
      "outputs": [
        {
          "output_type": "display_data",
          "data": {
            "image/png": "[encoded data removed]",
            "text/plain": [
              "<Figure size 432x432 with 1 Axes>"
            ]
          },
          "metadata": {
            "tags": [],
            "needs_background": "light"
          }
        }
      ]
    },
    {
      "cell_type": "markdown",
      "metadata": {
        "id": "aIdglmJu2Kgh"
      },
      "source": [
        "# Dataset 5 - A dataset which isn't linearly separable, including an outlier"
      ]
    },
    {
      "cell_type": "code",
      "metadata": {
        "id": "UrsneBZ_p28W"
      },
      "source": [
        "# Dataset\n",
        "\n",
        "# Positive instances\n",
        "\n",
        "x1_1 = [1, 2, 3, 4, 5, 6, 7]\n",
        "x2_1 = [x+3 for x in x1_1]\n",
        "y_1  = [1 for x in x1_1]\n",
        "\n",
        "x1_2 = [1, 2, 3, 4, 5]\n",
        "x2_2 = [x+5 for x in x1_2]\n",
        "y_2  = [1 for x in x1_2]\n",
        "\n",
        "# Negative instances\n",
        "\n",
        "x1_3 = [x+3 for x in x1_1]\n",
        "x2_3 = [x-3 for x in x1_3]\n",
        "y_3  = [0 for x in x1_3]\n",
        "\n",
        "x1_4 = [x+5 for x in x1_2]\n",
        "x2_4 = [x-5 for x in x1_4]\n",
        "y_4  = [0 for x in x1_4]\n",
        "\n",
        "x1 = np.array(x1_1 + x1_2 + x1_3 + x1_4 + [4, 10])\n",
        "x2 = np.array(x2_1 + x2_2 + x2_3 + x2_4 + [2, -8])\n",
        "\n",
        "X = np.array([x1,x2]).transpose()\n",
        "y = np.array(y_1 + y_2 + y_3 + y_4 + [1, 1])"
      ],
      "execution_count": null,
      "outputs": []
    },
    {
      "cell_type": "code",
      "metadata": {
        "colab": {
          "base_uri": "https://localhost:8080/",
          "height": 404
        },
        "id": "JHiLupB72Obp",
        "outputId": "b0dff198-6833-4e7b-8d3c-5365680711b5"
      },
      "source": [
        "# Plot dataset\n",
        "\n",
        "fig, ax = plt.subplots(nrows=1,ncols=1, figsize=(6,6))\n",
        "plt.title('Dataset 2')\n",
        "plt.xlim([X.min()-1, X.max()+1])\n",
        "plt.ylim([X.min()-1, X.max()+1])\n",
        "\n",
        "markers = ['x', 's']\n",
        "marker_label = [markers[i] for i in y]\n",
        "colors = [plt.cm.nipy_spectral(each) for each in np.linspace(0, 0.8, len(np.unique(y)))]\n",
        "color_pred = [colors[i] for i in y]\n",
        "\n",
        "for i in range(len(y)):   \n",
        "    plt.scatter(X[i,0], X[i,1], marker=marker_label[i], color=color_pred[i]) \n",
        "\n",
        "ax.set_xlabel(\"x1\")\n",
        "ax.set_ylabel(\"x2\")\n",
        "ax.grid(True)\n",
        "#fig.savefig(fig_name, bbox_inches='tight', dpi=600)"
      ],
      "execution_count": null,
      "outputs": [
        {
          "output_type": "display_data",
          "data": {
            "image/png": "[encoded data removed]",
            "text/plain": [
              "<Figure size 432x432 with 1 Axes>"
            ]
          },
          "metadata": {
            "tags": [],
            "needs_background": "light"
          }
        }
      ]
    },
    {
      "cell_type": "code",
      "metadata": {
        "colab": {
          "base_uri": "https://localhost:8080/"
        },
        "id": "heGwmRaY2Qsl",
        "outputId": "d9dd2a54-eb44-430e-8edc-4179474ab76a"
      },
      "source": [
        "# ===========================================================================================\n",
        "# Logistic Regression\n",
        "# https://scikit-learn.org/stable/modules/generated/sklearn.linear_model.LogisticRegression.html\n",
        "# ===========================================================================================\n",
        "\n",
        "lgc = LogisticRegression(fit_intercept=True, penalty='none', random_state=RANDOM_STATE)\n",
        "lgc.fit(X, y)\n",
        "y_pred = lgc.predict(X)\n",
        "\n",
        "accuracy = accuracy_score(y, y_pred)\n",
        "precision = precision_score(y, y_pred)\n",
        "recall = recall_score(y, y_pred)\n",
        "f1score = f1_score(y, y_pred)\n",
        "print('''Metrics for Logistic Regression Classifier: ''' + \n",
        "      '''\\n \\t accuracy: {} \\n\\t precision: {} \\n\\t recall: {} \\n\\t f1score: {}''' \n",
        "      .format(accuracy, precision, recall, f1score))\n",
        "\n",
        "coefs_lg = list(lgc.intercept_) + list(lgc.coef_[0])\n",
        "print('Coeficients:')\n",
        "for i, c in enumerate(coefs_lg):\n",
        "  print(f'\\t b_{i} = {c}')"
      ],
      "execution_count": null,
      "outputs": [
        {
          "output_type": "stream",
          "text": [
            "Metrics for Logistic Regression Classifier: \n",
            " \t accuracy: 0.8846153846153846 \n",
            "\t precision: 0.8666666666666667 \n",
            "\t recall: 0.9285714285714286 \n",
            "\t f1score: 0.896551724137931\n",
            "Coeficients:\n",
            "\t b_0 = 2.815705536844609\n",
            "\t b_1 = -0.6172759494619204\n",
            "\t b_2 = 0.1737135777228152\n"
          ],
          "name": "stdout"
        }
      ]
    },
    {
      "cell_type": "code",
      "metadata": {
        "colab": {
          "base_uri": "https://localhost:8080/"
        },
        "id": "NapAVqnv2cR9",
        "outputId": "af90181a-1924-45a0-c45d-afed23f7fa1d"
      },
      "source": [
        "# ===========================================================================================\n",
        "# Support Vector Machines Classifier\n",
        "# https://scikit-learn.org/stable/modules/svm.html\n",
        "# https://scikit-learn.org/stable/modules/generated/sklearn.svm.SVC.html#sklearn.svm.SVC\n",
        "# https://scikit-learn.org/stable/modules/generated/sklearn.svm.NuSVC.html#sklearn.svm.NuSVC\n",
        "# https://scikit-learn.org/stable/modules/generated/sklearn.svm.LinearSVC.html#sklearn.svm.LinearSVC\n",
        "# ===========================================================================================\n",
        "\n",
        "svm = SVC(kernel='linear', random_state=RANDOM_STATE)\n",
        "svm.fit(X, y)\n",
        "y_pred = svm.predict(X)\n",
        "\n",
        "accuracy = accuracy_score(y, y_pred)\n",
        "precision = precision_score(y, y_pred)\n",
        "recall = recall_score(y, y_pred)\n",
        "f1score = f1_score(y, y_pred)\n",
        "print('''Metrics for SVM Classifier: ''' + \n",
        "      '''\\n \\t accuracy: {} \\n\\t precision: {} \\n\\t recall: {} \\n\\t f1score: {}''' \n",
        "      .format(accuracy, precision, recall, f1score))\n",
        "\n",
        "coefs_svm = list(svm.intercept_) + list(svm.coef_[0])\n",
        "print('Coeficients:')\n",
        "for i, c in enumerate(coefs_svm):\n",
        "  print(f'\\t b_{i} = {c}')"
      ],
      "execution_count": null,
      "outputs": [
        {
          "output_type": "stream",
          "text": [
            "Metrics for SVM Classifier: \n",
            " \t accuracy: 0.9230769230769231 \n",
            "\t precision: 1.0 \n",
            "\t recall: 0.8571428571428571 \n",
            "\t f1score: 0.923076923076923\n",
            "Coeficients:\n",
            "\t b_0 = 3.117876327488981e-15\n",
            "\t b_1 = -0.3333333333333357\n",
            "\t b_2 = 0.33333333333333215\n"
          ],
          "name": "stdout"
        }
      ]
    },
    {
      "cell_type": "code",
      "metadata": {
        "colab": {
          "base_uri": "https://localhost:8080/",
          "height": 404
        },
        "id": "Ftrd4dTn2ehh",
        "outputId": "eb463b54-289a-4237-f751-283cc1a05d64"
      },
      "source": [
        "# Computing and ploting the bondary between x1 and x2\n",
        "\n",
        "fig, ax = plt.subplots(nrows=1,ncols=1, figsize=(6,6))\n",
        "plt.title('Bondaries for linear classifiers')\n",
        "plt.xlim([X.min()-1, X.max()+1])\n",
        "plt.ylim([X.min()-1, X.max()+1])\n",
        "\n",
        "# 1. Logistic Regression\n",
        "\n",
        "a_0 = -coefs_lg[0]/coefs_lg[2]\n",
        "a_1 = -coefs_lg[1]/coefs_lg[2]\n",
        "\n",
        "x_bound = np.linspace(X.min(), X.max(), 10)\n",
        "y_bound = [a_0 + a_1*x for x in x_bound]\n",
        "\n",
        "plt.plot(x_bound, y_bound, 'b--')\n",
        "\n",
        "# 2. SVM\n",
        "\n",
        "a_0 = -coefs_svm[0]/coefs_svm[2]\n",
        "a_1 = -coefs_svm[1]/coefs_svm[2]\n",
        "\n",
        "x_bound = np.linspace(X.min(), X.max(), 10)\n",
        "y_bound = [a_0 + a_1*x for x in x_bound]\n",
        "\n",
        "plt.plot(x_bound, y_bound, 'r:')\n",
        "ax.legend(['LR', 'SVM'], loc=2, framealpha=0)\n",
        "\n",
        "# 3. Train Data\n",
        "\n",
        "markers = ['x', 's']\n",
        "marker_label = [markers[i] for i in y]\n",
        "colors = [plt.cm.nipy_spectral(each) for each in np.linspace(0, 0.8, len(np.unique(y)))]\n",
        "color_pred = [colors[i] for i in y]\n",
        "\n",
        "for i in range(len(y)):   \n",
        "    plt.scatter(X[i,0], X[i,1], marker=marker_label[i], color=color_pred[i]) \n",
        "\n",
        "ax.set_xlabel(\"x1\")\n",
        "ax.set_ylabel(\"x2\")\n",
        "ax.grid(True)\n",
        "#fig.savefig(fig_name, bbox_inches='tight', dpi=600)"
      ],
      "execution_count": null,
      "outputs": [
        {
          "output_type": "display_data",
          "data": {
            "image/png": "[encoded data removed]",
            "text/plain": [
              "<Figure size 432x432 with 1 Axes>"
            ]
          },
          "metadata": {
            "tags": [],
            "needs_background": "light"
          }
        }
      ]
    },
    {
      "cell_type": "code",
      "metadata": {
        "id": "e_2atz9Y2h-e",
        "colab": {
          "base_uri": "https://localhost:8080/"
        },
        "outputId": "cd40dd23-9dba-4936-a5d2-a87ee6b66688"
      },
      "source": [
        "# ===========================================================================================\n",
        "# Support Vector Machines Classifier\n",
        "# https://scikit-learn.org/stable/modules/svm.html\n",
        "# https://scikit-learn.org/stable/modules/generated/sklearn.svm.SVC.html#sklearn.svm.SVC\n",
        "# https://scikit-learn.org/stable/modules/generated/sklearn.svm.NuSVC.html#sklearn.svm.NuSVC\n",
        "# https://scikit-learn.org/stable/modules/generated/sklearn.svm.LinearSVC.html#sklearn.svm.LinearSVC\n",
        "# ===========================================================================================\n",
        "\n",
        "C=0.003\n",
        "svm = SVC(kernel='linear', C=C, random_state=RANDOM_STATE)\n",
        "svm.fit(X, y)\n",
        "y_pred = svm.predict(X)\n",
        "\n",
        "accuracy = accuracy_score(y, y_pred)\n",
        "precision = precision_score(y, y_pred)\n",
        "recall = recall_score(y, y_pred)\n",
        "f1score = f1_score(y, y_pred)\n",
        "print('''Metrics for SVM Classifier: ''' + \n",
        "      '''\\n \\t accuracy: {} \\n\\t precision: {} \\n\\t recall: {} \\n\\t f1score: {}''' \n",
        "      .format(accuracy, precision, recall, f1score))\n",
        "\n",
        "coefs_svm = list(svm.intercept_) + list(svm.coef_[0])\n",
        "print('Coeficients:')\n",
        "for i, c in enumerate(coefs_svm):\n",
        "  print(f'\\t b_{i} = {c}')"
      ],
      "execution_count": null,
      "outputs": [
        {
          "output_type": "stream",
          "text": [
            "Metrics for SVM Classifier: \n",
            " \t accuracy: 0.5 \n",
            "\t precision: 0.52 \n",
            "\t recall: 0.9285714285714286 \n",
            "\t f1score: 0.6666666666666666\n",
            "Coeficients:\n",
            "\t b_0 = 0.6549999999999999\n",
            "\t b_1 = -0.10500000000000002\n",
            "\t b_2 = 0.081\n"
          ],
          "name": "stdout"
        }
      ]
    },
    {
      "cell_type": "code",
      "metadata": {
        "colab": {
          "base_uri": "https://localhost:8080/",
          "height": 404
        },
        "id": "pvm9mV_rsI3q",
        "outputId": "164d8cc1-34f2-4d6b-d28d-1e92c9bbdb4f"
      },
      "source": [
        "# Computing and ploting the bondary between x1 and x2\n",
        "\n",
        "fig, ax = plt.subplots(nrows=1,ncols=1, figsize=(6,6))\n",
        "plt.title('Bondaries for linear classifiers')\n",
        "plt.xlim([X.min()-1, X.max()+1])\n",
        "plt.ylim([X.min()-1, X.max()+1])\n",
        "\n",
        "# 1. Logistic Regression\n",
        "\n",
        "a_0 = -coefs_lg[0]/coefs_lg[2]\n",
        "a_1 = -coefs_lg[1]/coefs_lg[2]\n",
        "\n",
        "x_bound = np.linspace(X.min(), X.max(), 10)\n",
        "y_bound = [a_0 + a_1*x for x in x_bound]\n",
        "\n",
        "plt.plot(x_bound, y_bound, 'b--')\n",
        "\n",
        "# 2. SVM\n",
        "\n",
        "a_0 = -coefs_svm[0]/coefs_svm[2]\n",
        "a_1 = -coefs_svm[1]/coefs_svm[2]\n",
        "\n",
        "x_bound = np.linspace(X.min(), X.max(), 10)\n",
        "y_bound = [a_0 + a_1*x for x in x_bound]\n",
        "\n",
        "plt.plot(x_bound, y_bound, 'r:')\n",
        "ax.legend(['LR', f'SVM (C={C})'], loc=2, framealpha=0)\n",
        "\n",
        "# 3. Train Data\n",
        "\n",
        "markers = ['x', 's']\n",
        "marker_label = [markers[i] for i in y]\n",
        "colors = [plt.cm.nipy_spectral(each) for each in np.linspace(0, 0.8, len(np.unique(y)))]\n",
        "color_pred = [colors[i] for i in y]\n",
        "\n",
        "for i in range(len(y)):   \n",
        "    plt.scatter(X[i,0], X[i,1], marker=marker_label[i], color=color_pred[i]) \n",
        "\n",
        "ax.set_xlabel(\"x1\")\n",
        "ax.set_ylabel(\"x2\")\n",
        "ax.grid(True)\n",
        "#fig.savefig(fig_name, bbox_inches='tight', dpi=600)"
      ],
      "execution_count": null,
      "outputs": [
        {
          "output_type": "display_data",
          "data": {
            "image/png": "[encoded data removed]",
            "text/plain": [
              "<Figure size 432x432 with 1 Axes>"
            ]
          },
          "metadata": {
            "tags": [],
            "needs_background": "light"
          }
        }
      ]
    },
    {
      "cell_type": "code",
      "metadata": {
        "colab": {
          "base_uri": "https://localhost:8080/"
        },
        "id": "ztcuYMFtvK0I",
        "outputId": "53159982-c1da-4cc5-b26f-11007df5878c"
      },
      "source": [
        "# ===========================================================================================\n",
        "# Decision Tree Classifier\n",
        "# https://scikit-learn.org/stable/modules/tree.html#tree\n",
        "# https://scikit-learn.org/stable/modules/generated/sklearn.tree.DecisionTreeClassifier.html\n",
        "# https://scikit-learn.org/stable/modules/generated/sklearn.tree.plot_tree.html\n",
        "# ===========================================================================================\n",
        "\n",
        "max_depth = 2\n",
        "min_samples_split = 2\n",
        "dtc = DecisionTreeClassifier(max_depth=max_depth, min_samples_split=min_samples_split, criterion='entropy', random_state=RANDOM_STATE)\n",
        "dtc.fit(X, y)\n",
        "y_pred = dtc.predict(X)\n",
        "\n",
        "accuracy = accuracy_score(y, y_pred)\n",
        "precision = precision_score(y, y_pred)\n",
        "recall = recall_score(y, y_pred)\n",
        "f1score = f1_score(y, y_pred)\n",
        "print('''Metrics for Decision Tree Classifier: ''' + \n",
        "      '''\\n \\t accuracy: {} \\n\\t precision: {} \\n\\t recall: {} \\n\\t f1score: {}''' \n",
        "      .format(accuracy, precision, recall, f1score))\n",
        "\n",
        "r = export_text(dtc, feature_names=['x1', 'x2'])\n",
        "print(r)"
      ],
      "execution_count": null,
      "outputs": [
        {
          "output_type": "stream",
          "text": [
            "Metrics for Decision Tree Classifier: \n",
            " \t accuracy: 0.9230769230769231 \n",
            "\t precision: 1.0 \n",
            "\t recall: 0.8571428571428571 \n",
            "\t f1score: 0.923076923076923\n",
            "|--- x1 <= 5.50\n",
            "|   |--- x2 <= 3.00\n",
            "|   |   |--- class: 0\n",
            "|   |--- x2 >  3.00\n",
            "|   |   |--- class: 1\n",
            "|--- x1 >  5.50\n",
            "|   |--- x2 <= 8.00\n",
            "|   |   |--- class: 0\n",
            "|   |--- x2 >  8.00\n",
            "|   |   |--- class: 1\n",
            "\n"
          ],
          "name": "stdout"
        }
      ]
    },
    {
      "cell_type": "code",
      "metadata": {
        "colab": {
          "base_uri": "https://localhost:8080/",
          "height": 404
        },
        "id": "zATFF9_-sIqA",
        "outputId": "38b549f9-a627-40c9-a874-1696a6ab8e5e"
      },
      "source": [
        "# Computing and ploting the bondary between x1 and x2\n",
        "\n",
        "fig, ax = plt.subplots(nrows=1,ncols=1, figsize=(6,6))\n",
        "plt.title('Bondaries for linear classifiers')\n",
        "plt.xlim([X.min()-1, X.max()+1])\n",
        "plt.ylim([X.min()-1, X.max()+1])\n",
        "\n",
        "# 1. Logistic Regression\n",
        "\n",
        "a_0 = -coefs_lg[0]/coefs_lg[2]\n",
        "a_1 = -coefs_lg[1]/coefs_lg[2]\n",
        "\n",
        "x_bound = np.linspace(X.min(), X.max(), 10)\n",
        "y_bound = [a_0 + a_1*x for x in x_bound]\n",
        "\n",
        "plt.plot(x_bound, y_bound, 'b--')\n",
        "\n",
        "# 2. SVM\n",
        "\n",
        "a_0 = -coefs_svm[0]/coefs_svm[2]\n",
        "a_1 = -coefs_svm[1]/coefs_svm[2]\n",
        "\n",
        "x_bound = np.linspace(X.min(), X.max(), 10)\n",
        "y_bound = [a_0 + a_1*x for x in x_bound]\n",
        "\n",
        "plt.plot(x_bound, y_bound, 'r:')\n",
        "ax.legend(['LR', f'SVM (C={C})'], loc=2, framealpha=0)\n",
        "\n",
        "# 2. DTC\n",
        "\n",
        "x_grid  = np.linspace(X.min(), X.max(), 70)\n",
        "x1_plot = []\n",
        "x2_plot = []\n",
        "for x1 in x_grid:\n",
        "  for x2 in x_grid:\n",
        "    x1_plot.append(x1)\n",
        "    x2_plot.append(x2)\n",
        "\n",
        "x1_plot = np.array(x1_plot)\n",
        "x2_plot = np.array(x2_plot)\n",
        "X_plot = np.array([x1_plot, x2_plot]).transpose()\n",
        "y_plot = dtc.predict(X_plot)\n",
        "\n",
        "markers = ['.', '.']\n",
        "marker_label = [markers[i] for i in y_plot]\n",
        "colors = [plt.cm.nipy_spectral(each) for each in np.linspace(0.4, 0.6, len(np.unique(y_plot)))]\n",
        "color_pred = [colors[i] for i in y_plot]\n",
        "\n",
        "for i in range(len(y_plot)):   \n",
        "    plt.scatter(X_plot[i,0], X_plot[i,1], marker=marker_label[i], color=color_pred[i]) \n",
        "\n",
        "# 3. Train Data\n",
        "\n",
        "markers = ['x', 's']\n",
        "marker_label = [markers[i] for i in y]\n",
        "colors = [plt.cm.nipy_spectral(each) for each in np.linspace(0, 0.8, len(np.unique(y)))]\n",
        "color_pred = [colors[i] for i in y]\n",
        "\n",
        "for i in range(len(y)):   \n",
        "    plt.scatter(X[i,0], X[i,1], marker=marker_label[i], color=color_pred[i]) \n",
        "\n",
        "ax.set_xlabel(\"x1\")\n",
        "ax.set_ylabel(\"x2\")\n",
        "ax.grid(True)\n",
        "#fig.savefig(fig_name, bbox_inches='tight', dpi=600)"
      ],
      "execution_count": null,
      "outputs": [
        {
          "output_type": "display_data",
          "data": {
            "image/png": "[encoded data removed]",
            "text/plain": [
              "<Figure size 432x432 with 1 Axes>"
            ]
          },
          "metadata": {
            "tags": [],
            "needs_background": "light"
          }
        }
      ]
    },
    {
      "cell_type": "code",
      "metadata": {
        "colab": {
          "base_uri": "https://localhost:8080/"
        },
        "id": "-BEZLw1i2Rpb",
        "outputId": "ed7ae2f1-322f-4243-c41f-6983e2d92eb0"
      },
      "source": [
        "# ===========================================================================================\n",
        "# Decision Tree Classifier\n",
        "# https://scikit-learn.org/stable/modules/tree.html#tree\n",
        "# https://scikit-learn.org/stable/modules/generated/sklearn.tree.DecisionTreeClassifier.html\n",
        "# https://scikit-learn.org/stable/modules/generated/sklearn.tree.plot_tree.html\n",
        "# ===========================================================================================\n",
        "\n",
        "max_depth = 10\n",
        "min_samples_split = 2\n",
        "dtc = DecisionTreeClassifier(max_depth=max_depth, min_samples_split=min_samples_split, criterion='entropy', random_state=RANDOM_STATE)\n",
        "dtc.fit(X, y)\n",
        "y_pred = dtc.predict(X)\n",
        "\n",
        "accuracy = accuracy_score(y, y_pred)\n",
        "precision = precision_score(y, y_pred)\n",
        "recall = recall_score(y, y_pred)\n",
        "f1score = f1_score(y, y_pred)\n",
        "print('''Metrics for Decision Tree Classifier: ''' + \n",
        "      '''\\n \\t accuracy: {} \\n\\t precision: {} \\n\\t recall: {} \\n\\t f1score: {}''' \n",
        "      .format(accuracy, precision, recall, f1score))\n",
        "\n",
        "r = export_text(dtc, feature_names=['x1', 'x2'])\n",
        "print(r)"
      ],
      "execution_count": null,
      "outputs": [
        {
          "output_type": "stream",
          "text": [
            "Metrics for Decision Tree Classifier: \n",
            " \t accuracy: 1.0 \n",
            "\t precision: 1.0 \n",
            "\t recall: 1.0 \n",
            "\t f1score: 1.0\n",
            "|--- x1 <= 5.50\n",
            "|   |--- x2 <= 3.00\n",
            "|   |   |--- x2 <= 1.50\n",
            "|   |   |   |--- class: 0\n",
            "|   |   |--- x2 >  1.50\n",
            "|   |   |   |--- x1 <= 4.50\n",
            "|   |   |   |   |--- class: 1\n",
            "|   |   |   |--- x1 >  4.50\n",
            "|   |   |   |   |--- class: 0\n",
            "|   |--- x2 >  3.00\n",
            "|   |   |--- class: 1\n",
            "|--- x1 >  5.50\n",
            "|   |--- x2 <= 8.00\n",
            "|   |   |--- x2 <= -3.50\n",
            "|   |   |   |--- class: 1\n",
            "|   |   |--- x2 >  -3.50\n",
            "|   |   |   |--- class: 0\n",
            "|   |--- x2 >  8.00\n",
            "|   |   |--- class: 1\n",
            "\n"
          ],
          "name": "stdout"
        }
      ]
    },
    {
      "cell_type": "code",
      "metadata": {
        "colab": {
          "base_uri": "https://localhost:8080/",
          "height": 404
        },
        "id": "SUKjyecx2RcX",
        "outputId": "032734d7-f9bc-4ebe-dc64-136354d9bbfc"
      },
      "source": [
        "# Computing and ploting the bondary between x1 and x2\n",
        "\n",
        "fig, ax = plt.subplots(nrows=1,ncols=1, figsize=(6,6))\n",
        "plt.title('Bondaries for linear classifiers')\n",
        "plt.xlim([X.min()-1, X.max()+1])\n",
        "plt.ylim([X.min()-1, X.max()+1])\n",
        "\n",
        "# 1. Logistic Regression\n",
        "\n",
        "a_0 = -coefs_lg[0]/coefs_lg[2]\n",
        "a_1 = -coefs_lg[1]/coefs_lg[2]\n",
        "\n",
        "x_bound = np.linspace(X.min(), X.max(), 10)\n",
        "y_bound = [a_0 + a_1*x for x in x_bound]\n",
        "\n",
        "plt.plot(x_bound, y_bound, 'b--')\n",
        "\n",
        "# 2. SVM\n",
        "\n",
        "a_0 = -coefs_svm[0]/coefs_svm[2]\n",
        "a_1 = -coefs_svm[1]/coefs_svm[2]\n",
        "\n",
        "x_bound = np.linspace(X.min(), X.max(), 10)\n",
        "y_bound = [a_0 + a_1*x for x in x_bound]\n",
        "\n",
        "plt.plot(x_bound, y_bound, 'r:')\n",
        "ax.legend(['LR', f'SVM (C={C})'], loc=2, framealpha=0)\n",
        "\n",
        "# 2. DTC\n",
        "\n",
        "x_grid  = np.linspace(X.min(), X.max(), 70)\n",
        "x1_plot = []\n",
        "x2_plot = []\n",
        "for x1 in x_grid:\n",
        "  for x2 in x_grid:\n",
        "    x1_plot.append(x1)\n",
        "    x2_plot.append(x2)\n",
        "\n",
        "x1_plot = np.array(x1_plot)\n",
        "x2_plot = np.array(x2_plot)\n",
        "X_plot = np.array([x1_plot, x2_plot]).transpose()\n",
        "y_plot = dtc.predict(X_plot)\n",
        "\n",
        "markers = ['.', '.']\n",
        "marker_label = [markers[i] for i in y_plot]\n",
        "colors = [plt.cm.nipy_spectral(each) for each in np.linspace(0.4, 0.6, len(np.unique(y_plot)))]\n",
        "color_pred = [colors[i] for i in y_plot]\n",
        "\n",
        "for i in range(len(y_plot)):   \n",
        "    plt.scatter(X_plot[i,0], X_plot[i,1], marker=marker_label[i], color=color_pred[i]) \n",
        "\n",
        "# 3. Train Data\n",
        "\n",
        "markers = ['x', 's']\n",
        "marker_label = [markers[i] for i in y]\n",
        "colors = [plt.cm.nipy_spectral(each) for each in np.linspace(0, 0.8, len(np.unique(y)))]\n",
        "color_pred = [colors[i] for i in y]\n",
        "\n",
        "for i in range(len(y)):   \n",
        "    plt.scatter(X[i,0], X[i,1], marker=marker_label[i], color=color_pred[i]) \n",
        "\n",
        "ax.set_xlabel(\"x1\")\n",
        "ax.set_ylabel(\"x2\")\n",
        "ax.grid(True)\n",
        "#fig.savefig(fig_name, bbox_inches='tight', dpi=600)"
      ],
      "execution_count": null,
      "outputs": [
        {
          "output_type": "display_data",
          "data": {
            "image/png": "[encoded data removed]",
            "text/plain": [
              "<Figure size 432x432 with 1 Axes>"
            ]
          },
          "metadata": {
            "tags": [],
            "needs_background": "light"
          }
        }
      ]
    },
    {
      "cell_type": "code",
      "metadata": {
        "id": "5O44vDAHzYFi"
      },
      "source": [
        ""
      ],
      "execution_count": null,
      "outputs": []
    }
  ]
}
